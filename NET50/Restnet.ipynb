{
  "nbformat": 4,
  "nbformat_minor": 0,
  "metadata": {
    "colab": {
      "name": "Restnet.ipynb",
      "provenance": [],
      "collapsed_sections": [],
      "machine_shape": "hm"
    },
    "kernelspec": {
      "name": "python3",
      "display_name": "Python 3"
    },
    "language_info": {
      "name": "python"
    },
    "accelerator": "GPU"
  },
  "cells": [
    {
      "cell_type": "markdown",
      "source": [
        "\n",
        "# Downloading Dataset\n",
        "\n",
        "\n",
        "\n",
        "\n"
      ],
      "metadata": {
        "id": "VfIZfYrZOJ6L"
      }
    },
    {
      "cell_type": "code",
      "source": [
        "!git clone https://github.com/Greibus/PD_FER.git"
      ],
      "metadata": {
        "colab": {
          "base_uri": "https://localhost:8080/"
        },
        "id": "f-keQuH7jucD",
        "outputId": "60acc6a7-6b31-4d5f-c9ea-7a3e25a184f7"
      },
      "execution_count": 1,
      "outputs": [
        {
          "output_type": "stream",
          "name": "stdout",
          "text": [
            "Cloning into 'PD_FER'...\n",
            "remote: Enumerating objects: 10, done.\u001b[K\n",
            "remote: Counting objects: 100% (10/10), done.\u001b[K\n",
            "remote: Compressing objects: 100% (6/6), done.\u001b[K\n",
            "remote: Total 10 (delta 1), reused 7 (delta 1), pack-reused 0\u001b[K\n",
            "Unpacking objects: 100% (10/10), done.\n"
          ]
        }
      ]
    },
    {
      "cell_type": "code",
      "source": [
        "#This is for google colab\n",
        "from google.colab import files\n",
        "!pip install -q kaggle\n",
        "!mkdir ~/.kaggle/\n",
        "!cp PD_FER/kaggle.json ~/.kaggle/\n",
        "!chmod 600 ~/.kaggle/kaggle.json\n",
        "\n",
        "\n",
        "#This is for jupyter notebook\n",
        "#import opendatasets as od\n",
        "#import tarfile"
      ],
      "metadata": {
        "id": "Zd4_TaJLPxXV"
      },
      "execution_count": 2,
      "outputs": []
    },
    {
      "cell_type": "code",
      "source": [
        "#This is for google colab\n",
        "!kaggle competitions download challenges-in-representation-learning-facial-expression-recognition-challenge -f fer2013.tar.gz\n",
        "\n",
        "\n",
        "#This is for jupyter notebook\n",
        "#od.download(\"https://www.kaggle.com/c/challenges-in-representation-learning-facial-expression-recognition-challenge\")\n"
      ],
      "metadata": {
        "id": "G_iq6DCbH3dA",
        "colab": {
          "base_uri": "https://localhost:8080/"
        },
        "outputId": "f630e8d4-4bb9-421d-8786-fa3a5a81643c"
      },
      "execution_count": 3,
      "outputs": [
        {
          "output_type": "stream",
          "name": "stdout",
          "text": [
            "Downloading fer2013.tar.gz to /content\n",
            " 79% 73.0M/92.0M [00:00<00:00, 97.5MB/s]\n",
            "100% 92.0M/92.0M [00:00<00:00, 97.7MB/s]\n"
          ]
        }
      ]
    },
    {
      "cell_type": "code",
      "source": [
        "#This is for google colab\n",
        "! tar -xvf fer2013.tar.gz\n",
        "\n",
        "#This is for jupyter notebook\n",
        "#file = tarfile.open('challenges-in-representation-learning-facial-expression-recognition-challenge/fer2013.tar.gz')\n",
        "#file.extractall()\n",
        "#file.close()"
      ],
      "metadata": {
        "colab": {
          "base_uri": "https://localhost:8080/"
        },
        "id": "Nabv8qxbQftp",
        "outputId": "2a3894a6-1e07-49fa-b3ba-bccdead7a2c8"
      },
      "execution_count": 4,
      "outputs": [
        {
          "output_type": "stream",
          "name": "stdout",
          "text": [
            "fer2013/fer2013.csv\n",
            "fer2013/README\n",
            "fer2013/fer2013.bib\n",
            "fer2013/\n"
          ]
        }
      ]
    },
    {
      "cell_type": "markdown",
      "source": [
        "# Resnet Model\n",
        "\n"
      ],
      "metadata": {
        "id": "mzmA2odHWRLq"
      }
    },
    {
      "cell_type": "code",
      "source": [
        "\n",
        "from keras.layers import Input, Add, Dense, Activation, BatchNormalization, Flatten, Conv2D, AveragePooling2D, MaxPooling2D, GlobalMaxPooling2D\n",
        "from keras.models import Model\n",
        "\n",
        "from keras.applications.imagenet_utils import preprocess_input\n",
        "from keras.backend import clear_session\n",
        "from keras.initializers import glorot_uniform\n",
        "import matplotlib.pyplot as plt\n",
        "import seaborn as sns\n",
        "from keras.utils.np_utils import to_categorical\n",
        "%matplotlib inline\n",
        "from sklearn.metrics import confusion_matrix\n",
        "import itertools\n",
        "from keras.preprocessing import image\n",
        "\n",
        "import pandas as pd\n",
        "import numpy as np\n",
        "\n",
        "from keras.preprocessing.image import ImageDataGenerator\n",
        "from keras.callbacks import CSVLogger, ModelCheckpoint, EarlyStopping, TensorBoard\n",
        "from keras.callbacks import ReduceLROnPlateau\n"
      ],
      "metadata": {
        "id": "AVe9q-_Kc9Qq"
      },
      "execution_count": 5,
      "outputs": []
    },
    {
      "cell_type": "markdown",
      "source": [
        "## Reading Data"
      ],
      "metadata": {
        "id": "jZXHW6Y4di2q"
      }
    },
    {
      "cell_type": "code",
      "source": [
        "dataset_path = 'fer2013/fer2013.csv'\n"
      ],
      "metadata": {
        "id": "01g7ApPCdnUc"
      },
      "execution_count": 6,
      "outputs": []
    },
    {
      "cell_type": "code",
      "source": [
        "def load_fer2013():\n",
        "  data = pd.read_csv(dataset_path)\n",
        "  #Separate data from dataset\n",
        "  groups = [g for _, g in data.groupby('Usage')]\n",
        "  train = groups[2]\n",
        "  val = groups[1]\n",
        "  test = groups[0]\n",
        "\n",
        "  ##Del Usage group and separate data\n",
        "\n",
        "  train = train.drop(labels=['Usage'], axis=1)\n",
        "  val = val.drop(labels=['Usage'], axis=1)\n",
        "  test = test.drop(labels=['Usage'], axis=1)\n",
        "\n",
        "  return train, val,  test\n"
      ],
      "metadata": {
        "id": "-RIYgH9UhyHH"
      },
      "execution_count": 7,
      "outputs": []
    },
    {
      "cell_type": "code",
      "source": [
        "train, val, test = load_fer2013()"
      ],
      "metadata": {
        "id": "PfIkkgywlrLz"
      },
      "execution_count": 8,
      "outputs": []
    },
    {
      "cell_type": "code",
      "source": [
        "train.head()"
      ],
      "metadata": {
        "colab": {
          "base_uri": "https://localhost:8080/",
          "height": 206
        },
        "id": "RHv3SOPel4F6",
        "outputId": "18062b35-f48a-4afc-e503-ce8e3430ccf3"
      },
      "execution_count": 9,
      "outputs": [
        {
          "data": {
            "text/html": [
              "\n",
              "  <div id=\"df-d53c4dd6-e589-4dc1-888b-50dd55812507\">\n",
              "    <div class=\"colab-df-container\">\n",
              "      <div>\n",
              "<style scoped>\n",
              "    .dataframe tbody tr th:only-of-type {\n",
              "        vertical-align: middle;\n",
              "    }\n",
              "\n",
              "    .dataframe tbody tr th {\n",
              "        vertical-align: top;\n",
              "    }\n",
              "\n",
              "    .dataframe thead th {\n",
              "        text-align: right;\n",
              "    }\n",
              "</style>\n",
              "<table border=\"1\" class=\"dataframe\">\n",
              "  <thead>\n",
              "    <tr style=\"text-align: right;\">\n",
              "      <th></th>\n",
              "      <th>emotion</th>\n",
              "      <th>pixels</th>\n",
              "    </tr>\n",
              "  </thead>\n",
              "  <tbody>\n",
              "    <tr>\n",
              "      <th>0</th>\n",
              "      <td>0</td>\n",
              "      <td>70 80 82 72 58 58 60 63 54 58 60 48 89 115 121...</td>\n",
              "    </tr>\n",
              "    <tr>\n",
              "      <th>1</th>\n",
              "      <td>0</td>\n",
              "      <td>151 150 147 155 148 133 111 140 170 174 182 15...</td>\n",
              "    </tr>\n",
              "    <tr>\n",
              "      <th>2</th>\n",
              "      <td>2</td>\n",
              "      <td>231 212 156 164 174 138 161 173 182 200 106 38...</td>\n",
              "    </tr>\n",
              "    <tr>\n",
              "      <th>3</th>\n",
              "      <td>4</td>\n",
              "      <td>24 32 36 30 32 23 19 20 30 41 21 22 32 34 21 1...</td>\n",
              "    </tr>\n",
              "    <tr>\n",
              "      <th>4</th>\n",
              "      <td>6</td>\n",
              "      <td>4 0 0 0 0 0 0 0 0 0 0 0 3 15 23 28 48 50 58 84...</td>\n",
              "    </tr>\n",
              "  </tbody>\n",
              "</table>\n",
              "</div>\n",
              "      <button class=\"colab-df-convert\" onclick=\"convertToInteractive('df-d53c4dd6-e589-4dc1-888b-50dd55812507')\"\n",
              "              title=\"Convert this dataframe to an interactive table.\"\n",
              "              style=\"display:none;\">\n",
              "        \n",
              "  <svg xmlns=\"http://www.w3.org/2000/svg\" height=\"24px\"viewBox=\"0 0 24 24\"\n",
              "       width=\"24px\">\n",
              "    <path d=\"M0 0h24v24H0V0z\" fill=\"none\"/>\n",
              "    <path d=\"M18.56 5.44l.94 2.06.94-2.06 2.06-.94-2.06-.94-.94-2.06-.94 2.06-2.06.94zm-11 1L8.5 8.5l.94-2.06 2.06-.94-2.06-.94L8.5 2.5l-.94 2.06-2.06.94zm10 10l.94 2.06.94-2.06 2.06-.94-2.06-.94-.94-2.06-.94 2.06-2.06.94z\"/><path d=\"M17.41 7.96l-1.37-1.37c-.4-.4-.92-.59-1.43-.59-.52 0-1.04.2-1.43.59L10.3 9.45l-7.72 7.72c-.78.78-.78 2.05 0 2.83L4 21.41c.39.39.9.59 1.41.59.51 0 1.02-.2 1.41-.59l7.78-7.78 2.81-2.81c.8-.78.8-2.07 0-2.86zM5.41 20L4 18.59l7.72-7.72 1.47 1.35L5.41 20z\"/>\n",
              "  </svg>\n",
              "      </button>\n",
              "      \n",
              "  <style>\n",
              "    .colab-df-container {\n",
              "      display:flex;\n",
              "      flex-wrap:wrap;\n",
              "      gap: 12px;\n",
              "    }\n",
              "\n",
              "    .colab-df-convert {\n",
              "      background-color: #E8F0FE;\n",
              "      border: none;\n",
              "      border-radius: 50%;\n",
              "      cursor: pointer;\n",
              "      display: none;\n",
              "      fill: #1967D2;\n",
              "      height: 32px;\n",
              "      padding: 0 0 0 0;\n",
              "      width: 32px;\n",
              "    }\n",
              "\n",
              "    .colab-df-convert:hover {\n",
              "      background-color: #E2EBFA;\n",
              "      box-shadow: 0px 1px 2px rgba(60, 64, 67, 0.3), 0px 1px 3px 1px rgba(60, 64, 67, 0.15);\n",
              "      fill: #174EA6;\n",
              "    }\n",
              "\n",
              "    [theme=dark] .colab-df-convert {\n",
              "      background-color: #3B4455;\n",
              "      fill: #D2E3FC;\n",
              "    }\n",
              "\n",
              "    [theme=dark] .colab-df-convert:hover {\n",
              "      background-color: #434B5C;\n",
              "      box-shadow: 0px 1px 3px 1px rgba(0, 0, 0, 0.15);\n",
              "      filter: drop-shadow(0px 1px 2px rgba(0, 0, 0, 0.3));\n",
              "      fill: #FFFFFF;\n",
              "    }\n",
              "  </style>\n",
              "\n",
              "      <script>\n",
              "        const buttonEl =\n",
              "          document.querySelector('#df-d53c4dd6-e589-4dc1-888b-50dd55812507 button.colab-df-convert');\n",
              "        buttonEl.style.display =\n",
              "          google.colab.kernel.accessAllowed ? 'block' : 'none';\n",
              "\n",
              "        async function convertToInteractive(key) {\n",
              "          const element = document.querySelector('#df-d53c4dd6-e589-4dc1-888b-50dd55812507');\n",
              "          const dataTable =\n",
              "            await google.colab.kernel.invokeFunction('convertToInteractive',\n",
              "                                                     [key], {});\n",
              "          if (!dataTable) return;\n",
              "\n",
              "          const docLinkHtml = 'Like what you see? Visit the ' +\n",
              "            '<a target=\"_blank\" href=https://colab.research.google.com/notebooks/data_table.ipynb>data table notebook</a>'\n",
              "            + ' to learn more about interactive tables.';\n",
              "          element.innerHTML = '';\n",
              "          dataTable['output_type'] = 'display_data';\n",
              "          await google.colab.output.renderOutput(dataTable, element);\n",
              "          const docLink = document.createElement('div');\n",
              "          docLink.innerHTML = docLinkHtml;\n",
              "          element.appendChild(docLink);\n",
              "        }\n",
              "      </script>\n",
              "    </div>\n",
              "  </div>\n",
              "  "
            ],
            "text/plain": [
              "   emotion                                             pixels\n",
              "0        0  70 80 82 72 58 58 60 63 54 58 60 48 89 115 121...\n",
              "1        0  151 150 147 155 148 133 111 140 170 174 182 15...\n",
              "2        2  231 212 156 164 174 138 161 173 182 200 106 38...\n",
              "3        4  24 32 36 30 32 23 19 20 30 41 21 22 32 34 21 1...\n",
              "4        6  4 0 0 0 0 0 0 0 0 0 0 0 3 15 23 28 48 50 58 84..."
            ]
          },
          "execution_count": null,
          "metadata": {},
          "output_type": "execute_result"
        }
      ]
    },
    {
      "cell_type": "code",
      "source": [
        "Y_train = train[\"emotion\"]\n",
        "Y_val = val[\"emotion\"]\n",
        "Y_test = test[\"emotion\"]\n",
        "#'Angry', 'Disgust', 'Fear', 'Happy', 'Sad', 'Surprise', 'Neutral'#\n",
        "\n",
        "X_train = train[\"pixels\"]\n",
        "X_val = val[\"pixels\"]\n",
        "X_test = test[\"pixels\"]"
      ],
      "metadata": {
        "id": "_oZ7wTEdljjr"
      },
      "execution_count": 10,
      "outputs": []
    },
    {
      "cell_type": "code",
      "source": [
        "def preprocess(X):\n",
        "    X = np.array([np.fromstring(image, np.uint8, sep=' ') for image in X])\n",
        "    X = X/255.0\n",
        "    X = X.reshape(-1, 48, 48, 1)\n",
        "    return X"
      ],
      "metadata": {
        "id": "tU4CGyEcmXK2"
      },
      "execution_count": 11,
      "outputs": []
    },
    {
      "cell_type": "code",
      "source": [
        "X_train = preprocess(X_train)\n",
        "X_val = preprocess(X_val)\n",
        "X_test = preprocess(X_test)"
      ],
      "metadata": {
        "id": "vfe5aUcymaRS"
      },
      "execution_count": 12,
      "outputs": []
    },
    {
      "cell_type": "code",
      "source": [
        "plt.imshow(X_train[15][:,:,0])"
      ],
      "metadata": {
        "colab": {
          "base_uri": "https://localhost:8080/",
          "height": 284
        },
        "id": "KCcpSC5vmlCC",
        "outputId": "099da59f-c4c8-4bc4-b0f9-06f492e21c45"
      },
      "execution_count": 13,
      "outputs": [
        {
          "output_type": "execute_result",
          "data": {
            "text/plain": [
              "<matplotlib.image.AxesImage at 0x7fe1b6071c50>"
            ]
          },
          "metadata": {},
          "execution_count": 13
        },
        {
          "output_type": "display_data",
          "data": {
            "text/plain": [
              "<Figure size 432x288 with 1 Axes>"
            ],
            "image/png": "[encoded data removed]"
          },
          "metadata": {
            "needs_background": "light"
          }
        }
      ]
    },
    {
      "cell_type": "code",
      "source": [
        "plt.imsave('test.png',X_train[15][:,:,0] )"
      ],
      "metadata": {
        "id": "lkCcyPBR1EFU"
      },
      "execution_count": 14,
      "outputs": []
    },
    {
      "cell_type": "code",
      "source": [
        "plt.figure(figsize=(30, 7))\n",
        "\n",
        "plt.subplot(1,3,1)\n",
        "ax = sns.countplot(Y_train)\n",
        "ax.set(ylabel=\"count\", xlabel=\"emotion\")\n",
        "plt.title(\"Counts per emotion in training set\")\n",
        "\n",
        "plt.subplot(1,3,2)\n",
        "ax = sns.countplot(Y_val)\n",
        "ax.set(ylabel=\"count\", xlabel=\"emotion\")\n",
        "plt.title(\"Counts per emotion in validation set\")\n",
        "\n",
        "plt.subplot(1,3,3)\n",
        "ax = sns.countplot(Y_test)\n",
        "ax.set(ylabel=\"count\", xlabel=\"emotion\")\n",
        "plt.title(\"Counts per emotion in testing set\")"
      ],
      "metadata": {
        "colab": {
          "base_uri": "https://localhost:8080/",
          "height": 398
        },
        "id": "f5ZnwCk4nAZh",
        "outputId": "41ad4a1d-af60-4095-b5e0-94a12f96fb2d"
      },
      "execution_count": 15,
      "outputs": [
        {
          "output_type": "stream",
          "name": "stderr",
          "text": [
            "/usr/local/lib/python3.7/dist-packages/seaborn/_decorators.py:43: FutureWarning: Pass the following variable as a keyword arg: x. From version 0.12, the only valid positional argument will be `data`, and passing other arguments without an explicit keyword will result in an error or misinterpretation.\n",
            "  FutureWarning\n",
            "/usr/local/lib/python3.7/dist-packages/seaborn/_decorators.py:43: FutureWarning: Pass the following variable as a keyword arg: x. From version 0.12, the only valid positional argument will be `data`, and passing other arguments without an explicit keyword will result in an error or misinterpretation.\n",
            "  FutureWarning\n",
            "/usr/local/lib/python3.7/dist-packages/seaborn/_decorators.py:43: FutureWarning: Pass the following variable as a keyword arg: x. From version 0.12, the only valid positional argument will be `data`, and passing other arguments without an explicit keyword will result in an error or misinterpretation.\n",
            "  FutureWarning\n"
          ]
        },
        {
          "output_type": "execute_result",
          "data": {
            "text/plain": [
              "Text(0.5, 1.0, 'Counts per emotion in testing set')"
            ]
          },
          "metadata": {},
          "execution_count": 15
        },
        {
          "output_type": "display_data",
          "data": {
            "text/plain": [
              "<Figure size 2160x504 with 3 Axes>"
            ],
            "image/png": "[encoded data removed]"
          },
          "metadata": {
            "needs_background": "light"
          }
        }
      ]
    },
    {
      "cell_type": "code",
      "source": [
        "print(\"Is any label null in training set:\", Y_train.isnull().any())\n",
        "print(\"Is any label null in validation set:\", Y_val.isnull().any())\n",
        "print(\"Is any label null in testing set:\", Y_test.isnull().any())\n",
        "\n",
        "\n",
        "Y_train = to_categorical(Y_train, num_classes=7)\n",
        "Y_val = to_categorical(Y_val, num_classes=7)\n",
        "Y_test = to_categorical(Y_test, num_classes=7)"
      ],
      "metadata": {
        "colab": {
          "base_uri": "https://localhost:8080/"
        },
        "id": "zx5DjN3knPOg",
        "outputId": "01180377-8845-4c56-97b4-31e8ed6cd966"
      },
      "execution_count": 16,
      "outputs": [
        {
          "output_type": "stream",
          "name": "stdout",
          "text": [
            "Is any label null in training set: False\n",
            "Is any label null in validation set: False\n",
            "Is any label null in testing set: False\n"
          ]
        }
      ]
    },
    {
      "cell_type": "markdown",
      "source": [
        "## Data agumentation"
      ],
      "metadata": {
        "id": "OYge2VJJeZ3v"
      }
    },
    {
      "cell_type": "code",
      "source": [
        "#Data Augumentation\n",
        "data_generator = ImageDataGenerator(\n",
        "                        featurewise_center=False,\n",
        "                        featurewise_std_normalization=False,\n",
        "                        rotation_range=10,\n",
        "                        shear_range = 10,\n",
        "                        width_shift_range=0.1,\n",
        "                        height_shift_range=0.1,\n",
        "                        zoom_range=.1,\n",
        "                        horizontal_flip=True)"
      ],
      "metadata": {
        "id": "VjQRCltSedVN"
      },
      "execution_count": 17,
      "outputs": []
    },
    {
      "cell_type": "markdown",
      "source": [
        "## Model Structure"
      ],
      "metadata": {
        "id": "jNKCZdplfDt4"
      }
    },
    {
      "cell_type": "code",
      "source": [
        "def identity_block(X, f, filters, stage, block):\n",
        "    \"\"\"\n",
        "    Implementation of the identity block\n",
        "    \n",
        "    Arguments:\n",
        "    X -- input tensor of shape (m, n_H_prev, n_W_prev, n_C_prev)\n",
        "    f -- integer, specifying the shape of the middle CONV's window for the main path\n",
        "    filters -- python list of integers, defining the number of filters in the CONV layers of the main path\n",
        "    stage -- integer, used to name the layers, depending on their position in the network\n",
        "    block -- string/character, used to name the layers, depending on their position in the network\n",
        "    \n",
        "    Returns:\n",
        "    X -- output of the identity block, tensor of shape (n_H, n_W, n_C)\n",
        "    \"\"\"\n",
        "    \n",
        "    # defining name basis\n",
        "    conv_name_base = 'res' + str(stage) + block + '_branch'\n",
        "    bn_name_base = 'bn' + str(stage) + block + '_branch'\n",
        "    \n",
        "    # Retrieve Filters\n",
        "    F1, F2, F3 = filters\n",
        "    \n",
        "    # Save the input value. You'll need this later to add back to the main path. \n",
        "    X_shortcut = X\n",
        "    \n",
        "    # First component of main path\n",
        "    X = Conv2D(filters = F1, kernel_size = (1, 1), strides = (1,1), padding = 'valid', name = conv_name_base + '2a', kernel_initializer = glorot_uniform(seed=0))(X)\n",
        "    X = BatchNormalization(axis = 3, name = bn_name_base + '2a')(X)\n",
        "    X = Activation('relu')(X)\n",
        "    \n",
        "   \n",
        "    # Second component of main path\n",
        "    X = Conv2D(filters = F2, kernel_size = (f, f), strides = (1,1), padding = 'same', name = conv_name_base + '2b', kernel_initializer = glorot_uniform(seed=0))(X)\n",
        "    X = BatchNormalization(axis = 3, name = bn_name_base + '2b')(X)\n",
        "    X = Activation('relu')(X)\n",
        "\n",
        "    # Third component of main path \n",
        "    X = Conv2D(filters = F3, kernel_size = (1, 1), strides = (1,1), padding = 'valid', name = conv_name_base + '2c', kernel_initializer = glorot_uniform(seed=0))(X)\n",
        "    X = BatchNormalization(axis = 3, name = bn_name_base + '2c')(X)\n",
        "\n",
        "    # Final step: Add shortcut value to main path, and pass it through a RELU activation \n",
        "    X = Add()([X_shortcut,X])\n",
        "    X = Activation(\"relu\")(X)\n",
        "        \n",
        "    return X"
      ],
      "metadata": {
        "id": "qDtYNHNegaei"
      },
      "execution_count": 18,
      "outputs": []
    },
    {
      "cell_type": "code",
      "source": [
        "def convolutional_block(X, f, filters, stage, block, s = 2):\n",
        "    \"\"\"\n",
        "    Implementation of the convolutional block4\n",
        "    \n",
        "    Arguments:\n",
        "    X -- input tensor of shape (m, n_H_prev, n_W_prev, n_C_prev)\n",
        "    f -- integer, specifying the shape of the middle CONV's window for the main path\n",
        "    filters -- python list of integers, defining the number of filters in the CONV layers of the main path\n",
        "    stage -- integer, used to name the layers, depending on their position in the network\n",
        "    block -- string/character, used to name the layers, depending on their position in the network\n",
        "    s -- Integer, specifying the stride to be used\n",
        "    \n",
        "    Returns:\n",
        "    X -- output of the convolutional block, tensor of shape (n_H, n_W, n_C)\n",
        "    \"\"\"\n",
        "    \n",
        "    # defining name basis\n",
        "    conv_name_base = 'res' + str(stage) + block + '_branch'\n",
        "    bn_name_base = 'bn' + str(stage) + block + '_branch'\n",
        "    \n",
        "    # Retrieve Filters\n",
        "    F1, F2, F3 = filters\n",
        "    \n",
        "    # Save the input value\n",
        "    X_shortcut = X\n",
        "\n",
        "\n",
        "    ##### MAIN PATH #####\n",
        "    # First component of main path \n",
        "    X = Conv2D(F1, (1, 1), strides = (s,s), name = conv_name_base + '2a',padding = 'valid', kernel_initializer = glorot_uniform(seed=0))(X)\n",
        "    X = BatchNormalization(axis = 3, name = bn_name_base + '2a')(X)\n",
        "    X = Activation('relu')(X)\n",
        "    \n",
        "    # Second component of main path \n",
        "    X = Conv2D(F2, (f, f), strides = (1,1), name = conv_name_base + '2b',padding = 'same', kernel_initializer = glorot_uniform(seed=0))(X)\n",
        "    X = BatchNormalization(axis = 3, name = bn_name_base + '2b')(X)\n",
        "    X = Activation('relu')(X)\n",
        "\n",
        "    # Third component of main path \n",
        "    X = Conv2D(F3, (1, 1), strides = (1,1), name = conv_name_base + '2c',padding = 'valid', kernel_initializer = glorot_uniform(seed=0))(X)\n",
        "    X = BatchNormalization(axis = 3, name = bn_name_base + '2c')(X)\n",
        "\n",
        "    ##### SHORTCUT PATH #### \n",
        "    X_shortcut = Conv2D(F3, (1, 1), strides = (s,s), name = conv_name_base + '1',padding = 'valid', kernel_initializer = glorot_uniform(seed=0))(X_shortcut)\n",
        "    X_shortcut = BatchNormalization(axis = 3, name = bn_name_base + '1')(X_shortcut)\n",
        "\n",
        "    # Final step: Add shortcut value to main path, and pass it through a RELU activation \n",
        "    X = Add()([X_shortcut,X])\n",
        "    X = Activation(\"relu\")(X)\n",
        "        \n",
        "    return X"
      ],
      "metadata": {
        "id": "oj5mKaZtghZ_"
      },
      "execution_count": 19,
      "outputs": []
    },
    {
      "cell_type": "code",
      "source": [
        "def Net50(input_shape = (48,48,1), classes = 7):\n",
        "    \"\"\"\n",
        "    Implementation of the popular ResNet50 the following architecture:\n",
        "    CONV2D -> BATCHNORM -> RELU -> MAXPOOL -> CONVBLOCK -> IDBLOCK*2 -> CONVBLOCK -> IDBLOCK*3\n",
        "    -> CONVBLOCK -> IDBLOCK*5 -> CONVBLOCK -> IDBLOCK*2 -> AVGPOOL -> TOPLAYER\n",
        "\n",
        "    Arguments:\n",
        "    input_shape -- shape of the images of the dataset\n",
        "    classes -- integer, number of classes\n",
        "\n",
        "    Returns:\n",
        "    model -- a Model() instance in Keras\n",
        "    \"\"\"\n",
        "    clear_session()\n",
        "    # Define the input as a tensor with shape input_shape\n",
        "    X_input = Input(input_shape)\n",
        "\n",
        "    \n",
        "    # Zero-Padding\n",
        "    #X = ZeroPadding2D((1, 1))(X_input)\n",
        "    X = X_input\n",
        "    # Stage 1\n",
        "\n",
        "    X = Conv2D(8, (3, 3), strides = (1, 1), name = 'conv1', kernel_initializer = glorot_uniform(seed=0))(X)\n",
        "    X = BatchNormalization(axis = 3, name = 'bn_conv1')(X)\n",
        "    X = Activation('relu')(X)\n",
        "    # removed maxpool\n",
        "    #X = MaxPooling2D((3, 3), strides=(2, 2))(X)\n",
        "\n",
        "    # Stage 2\n",
        "    X = convolutional_block(X, f = 3, filters = [32, 32, 128], stage = 2, block='a', s = 1)\n",
        "    X = identity_block(X, 3, [32, 32, 128], stage=2, block='b')\n",
        "    X = identity_block(X, 3, [32, 32, 128], stage=2, block='c')\n",
        "\n",
        "\n",
        "    # Stage 3 \n",
        "    X = convolutional_block(X, f = 3, filters = [64,64,256], stage = 3, block='a', s = 2)\n",
        "    X = identity_block(X, 3, [64,64,256], stage=3, block='b')\n",
        "    X = identity_block(X, 3, [64,64,256], stage=3, block='c')\n",
        "    X = identity_block(X, 3, [64,64,256], stage=3, block='d')\n",
        "\n",
        "    # Stage 4 \n",
        "    X = convolutional_block(X, f = 3, filters = [128, 128, 512], stage = 4, block='a', s = 2)\n",
        "    X = identity_block(X, 3, [128, 128, 512], stage=4, block='b')\n",
        "    X = identity_block(X, 3, [128, 128, 512], stage=4, block='c')\n",
        "    X = identity_block(X, 3, [128, 128, 512], stage=4, block='d')\n",
        "    X = identity_block(X, 3, [128, 128, 512], stage=4, block='e')\n",
        "    X = identity_block(X, 3, [128, 128, 512], stage=4, block='f')\n",
        "\n",
        "    # Stage 5 \n",
        "    X = convolutional_block(X, f = 3, filters = [256, 256, 1024], stage = 5, block='a', s = 2)\n",
        "    X = identity_block(X, 3, [256, 256, 1024], stage=5, block='b')\n",
        "    X = identity_block(X, 3, [256, 256, 1024], stage=5, block='c')\n",
        "\n",
        "    # AVGPOOL . \n",
        "    X = AveragePooling2D((2,2), name='avg_pool')(X)\n",
        "    \n",
        "    # output layer\n",
        "    X = Flatten()(X)\n",
        "    X = Dense(512, activation = 'relu', name='fc1024' , kernel_initializer = glorot_uniform(seed=0))(X)\n",
        "    X = Dense(classes, activation='softmax', name='fc' + str(classes), kernel_initializer = glorot_uniform(seed=0))(X)\n",
        "    \n",
        "    \n",
        "    # Create model\n",
        "    model = Model(inputs = X_input, outputs = X, name='Net50')\n",
        "    model.summary()\n",
        "    return model"
      ],
      "metadata": {
        "id": "_UBAhS_QglAP"
      },
      "execution_count": 20,
      "outputs": []
    },
    {
      "cell_type": "markdown",
      "source": [
        "## Training"
      ],
      "metadata": {
        "id": "285enrWGgzy_"
      }
    },
    {
      "cell_type": "code",
      "source": [
        "patience = 25\n",
        "# callbacks\n",
        "log_file_path = 'model_resnet/_emotion_training.log'\n",
        "csv_logger = CSVLogger(log_file_path, append=False)\n",
        "early_stop = EarlyStopping('val_loss', patience=patience)\n",
        "tensorboard = TensorBoard(log_dir='./logs')\n",
        "reduce_lr = ReduceLROnPlateau('val_loss', factor=0.1, patience=int(patience/2), verbose=1)\n",
        "trained_models_path = 'model_resnet/_mini_XCEPTION'\n",
        "model_checkpoint = ModelCheckpoint(filepath=\"model_resnet/model_wiehgts.hdf5\", monitor='val_loss', verbose=1,save_best_only=True)\n",
        "callbacks = [model_checkpoint, csv_logger, early_stop, reduce_lr, tensorboard]"
      ],
      "metadata": {
        "id": "sI7uoljUg9Fi"
      },
      "execution_count": 21,
      "outputs": []
    },
    {
      "cell_type": "code",
      "source": [
        "from tensorflow.keras.optimizers import Adam, SGD\n",
        "model = Net50(input_shape = (48, 48, 1), classes = 7)\n",
        "optimizer = Adam(learning_rate=0.0005, beta_1=0.9, beta_2=0.999, epsilon=1e-7)\n",
        "model.compile(optimizer= optimizer, loss='categorical_crossentropy', metrics=['accuracy'])"
      ],
      "metadata": {
        "id": "SJ9f6_GKiMGO",
        "colab": {
          "base_uri": "https://localhost:8080/"
        },
        "outputId": "d86973a9-c66b-4a4c-9506-8cb8e3307a94"
      },
      "execution_count": 22,
      "outputs": [
        {
          "output_type": "stream",
          "name": "stdout",
          "text": [
            "Model: \"Net50\"\n",
            "__________________________________________________________________________________________________\n",
            " Layer (type)                   Output Shape         Param #     Connected to                     \n",
            "==================================================================================================\n",
            " input_1 (InputLayer)           [(None, 48, 48, 1)]  0           []                               \n",
            "                                                                                                  \n",
            " conv1 (Conv2D)                 (None, 46, 46, 8)    80          ['input_1[0][0]']                \n",
            "                                                                                                  \n",
            " bn_conv1 (BatchNormalization)  (None, 46, 46, 8)    32          ['conv1[0][0]']                  \n",
            "                                                                                                  \n",
            " activation (Activation)        (None, 46, 46, 8)    0           ['bn_conv1[0][0]']               \n",
            "                                                                                                  \n",
            " res2a_branch2a (Conv2D)        (None, 46, 46, 32)   288         ['activation[0][0]']             \n",
            "                                                                                                  \n",
            " bn2a_branch2a (BatchNormalizat  (None, 46, 46, 32)  128         ['res2a_branch2a[0][0]']         \n",
            " ion)                                                                                             \n",
            "                                                                                                  \n",
            " activation_1 (Activation)      (None, 46, 46, 32)   0           ['bn2a_branch2a[0][0]']          \n",
            "                                                                                                  \n",
            " res2a_branch2b (Conv2D)        (None, 46, 46, 32)   9248        ['activation_1[0][0]']           \n",
            "                                                                                                  \n",
            " bn2a_branch2b (BatchNormalizat  (None, 46, 46, 32)  128         ['res2a_branch2b[0][0]']         \n",
            " ion)                                                                                             \n",
            "                                                                                                  \n",
            " activation_2 (Activation)      (None, 46, 46, 32)   0           ['bn2a_branch2b[0][0]']          \n",
            "                                                                                                  \n",
            " res2a_branch1 (Conv2D)         (None, 46, 46, 128)  1152        ['activation[0][0]']             \n",
            "                                                                                                  \n",
            " res2a_branch2c (Conv2D)        (None, 46, 46, 128)  4224        ['activation_2[0][0]']           \n",
            "                                                                                                  \n",
            " bn2a_branch1 (BatchNormalizati  (None, 46, 46, 128)  512        ['res2a_branch1[0][0]']          \n",
            " on)                                                                                              \n",
            "                                                                                                  \n",
            " bn2a_branch2c (BatchNormalizat  (None, 46, 46, 128)  512        ['res2a_branch2c[0][0]']         \n",
            " ion)                                                                                             \n",
            "                                                                                                  \n",
            " add (Add)                      (None, 46, 46, 128)  0           ['bn2a_branch1[0][0]',           \n",
            "                                                                  'bn2a_branch2c[0][0]']          \n",
            "                                                                                                  \n",
            " activation_3 (Activation)      (None, 46, 46, 128)  0           ['add[0][0]']                    \n",
            "                                                                                                  \n",
            " res2b_branch2a (Conv2D)        (None, 46, 46, 32)   4128        ['activation_3[0][0]']           \n",
            "                                                                                                  \n",
            " bn2b_branch2a (BatchNormalizat  (None, 46, 46, 32)  128         ['res2b_branch2a[0][0]']         \n",
            " ion)                                                                                             \n",
            "                                                                                                  \n",
            " activation_4 (Activation)      (None, 46, 46, 32)   0           ['bn2b_branch2a[0][0]']          \n",
            "                                                                                                  \n",
            " res2b_branch2b (Conv2D)        (None, 46, 46, 32)   9248        ['activation_4[0][0]']           \n",
            "                                                                                                  \n",
            " bn2b_branch2b (BatchNormalizat  (None, 46, 46, 32)  128         ['res2b_branch2b[0][0]']         \n",
            " ion)                                                                                             \n",
            "                                                                                                  \n",
            " activation_5 (Activation)      (None, 46, 46, 32)   0           ['bn2b_branch2b[0][0]']          \n",
            "                                                                                                  \n",
            " res2b_branch2c (Conv2D)        (None, 46, 46, 128)  4224        ['activation_5[0][0]']           \n",
            "                                                                                                  \n",
            " bn2b_branch2c (BatchNormalizat  (None, 46, 46, 128)  512        ['res2b_branch2c[0][0]']         \n",
            " ion)                                                                                             \n",
            "                                                                                                  \n",
            " add_1 (Add)                    (None, 46, 46, 128)  0           ['activation_3[0][0]',           \n",
            "                                                                  'bn2b_branch2c[0][0]']          \n",
            "                                                                                                  \n",
            " activation_6 (Activation)      (None, 46, 46, 128)  0           ['add_1[0][0]']                  \n",
            "                                                                                                  \n",
            " res2c_branch2a (Conv2D)        (None, 46, 46, 32)   4128        ['activation_6[0][0]']           \n",
            "                                                                                                  \n",
            " bn2c_branch2a (BatchNormalizat  (None, 46, 46, 32)  128         ['res2c_branch2a[0][0]']         \n",
            " ion)                                                                                             \n",
            "                                                                                                  \n",
            " activation_7 (Activation)      (None, 46, 46, 32)   0           ['bn2c_branch2a[0][0]']          \n",
            "                                                                                                  \n",
            " res2c_branch2b (Conv2D)        (None, 46, 46, 32)   9248        ['activation_7[0][0]']           \n",
            "                                                                                                  \n",
            " bn2c_branch2b (BatchNormalizat  (None, 46, 46, 32)  128         ['res2c_branch2b[0][0]']         \n",
            " ion)                                                                                             \n",
            "                                                                                                  \n",
            " activation_8 (Activation)      (None, 46, 46, 32)   0           ['bn2c_branch2b[0][0]']          \n",
            "                                                                                                  \n",
            " res2c_branch2c (Conv2D)        (None, 46, 46, 128)  4224        ['activation_8[0][0]']           \n",
            "                                                                                                  \n",
            " bn2c_branch2c (BatchNormalizat  (None, 46, 46, 128)  512        ['res2c_branch2c[0][0]']         \n",
            " ion)                                                                                             \n",
            "                                                                                                  \n",
            " add_2 (Add)                    (None, 46, 46, 128)  0           ['activation_6[0][0]',           \n",
            "                                                                  'bn2c_branch2c[0][0]']          \n",
            "                                                                                                  \n",
            " activation_9 (Activation)      (None, 46, 46, 128)  0           ['add_2[0][0]']                  \n",
            "                                                                                                  \n",
            " res3a_branch2a (Conv2D)        (None, 23, 23, 64)   8256        ['activation_9[0][0]']           \n",
            "                                                                                                  \n",
            " bn3a_branch2a (BatchNormalizat  (None, 23, 23, 64)  256         ['res3a_branch2a[0][0]']         \n",
            " ion)                                                                                             \n",
            "                                                                                                  \n",
            " activation_10 (Activation)     (None, 23, 23, 64)   0           ['bn3a_branch2a[0][0]']          \n",
            "                                                                                                  \n",
            " res3a_branch2b (Conv2D)        (None, 23, 23, 64)   36928       ['activation_10[0][0]']          \n",
            "                                                                                                  \n",
            " bn3a_branch2b (BatchNormalizat  (None, 23, 23, 64)  256         ['res3a_branch2b[0][0]']         \n",
            " ion)                                                                                             \n",
            "                                                                                                  \n",
            " activation_11 (Activation)     (None, 23, 23, 64)   0           ['bn3a_branch2b[0][0]']          \n",
            "                                                                                                  \n",
            " res3a_branch1 (Conv2D)         (None, 23, 23, 256)  33024       ['activation_9[0][0]']           \n",
            "                                                                                                  \n",
            " res3a_branch2c (Conv2D)        (None, 23, 23, 256)  16640       ['activation_11[0][0]']          \n",
            "                                                                                                  \n",
            " bn3a_branch1 (BatchNormalizati  (None, 23, 23, 256)  1024       ['res3a_branch1[0][0]']          \n",
            " on)                                                                                              \n",
            "                                                                                                  \n",
            " bn3a_branch2c (BatchNormalizat  (None, 23, 23, 256)  1024       ['res3a_branch2c[0][0]']         \n",
            " ion)                                                                                             \n",
            "                                                                                                  \n",
            " add_3 (Add)                    (None, 23, 23, 256)  0           ['bn3a_branch1[0][0]',           \n",
            "                                                                  'bn3a_branch2c[0][0]']          \n",
            "                                                                                                  \n",
            " activation_12 (Activation)     (None, 23, 23, 256)  0           ['add_3[0][0]']                  \n",
            "                                                                                                  \n",
            " res3b_branch2a (Conv2D)        (None, 23, 23, 64)   16448       ['activation_12[0][0]']          \n",
            "                                                                                                  \n",
            " bn3b_branch2a (BatchNormalizat  (None, 23, 23, 64)  256         ['res3b_branch2a[0][0]']         \n",
            " ion)                                                                                             \n",
            "                                                                                                  \n",
            " activation_13 (Activation)     (None, 23, 23, 64)   0           ['bn3b_branch2a[0][0]']          \n",
            "                                                                                                  \n",
            " res3b_branch2b (Conv2D)        (None, 23, 23, 64)   36928       ['activation_13[0][0]']          \n",
            "                                                                                                  \n",
            " bn3b_branch2b (BatchNormalizat  (None, 23, 23, 64)  256         ['res3b_branch2b[0][0]']         \n",
            " ion)                                                                                             \n",
            "                                                                                                  \n",
            " activation_14 (Activation)     (None, 23, 23, 64)   0           ['bn3b_branch2b[0][0]']          \n",
            "                                                                                                  \n",
            " res3b_branch2c (Conv2D)        (None, 23, 23, 256)  16640       ['activation_14[0][0]']          \n",
            "                                                                                                  \n",
            " bn3b_branch2c (BatchNormalizat  (None, 23, 23, 256)  1024       ['res3b_branch2c[0][0]']         \n",
            " ion)                                                                                             \n",
            "                                                                                                  \n",
            " add_4 (Add)                    (None, 23, 23, 256)  0           ['activation_12[0][0]',          \n",
            "                                                                  'bn3b_branch2c[0][0]']          \n",
            "                                                                                                  \n",
            " activation_15 (Activation)     (None, 23, 23, 256)  0           ['add_4[0][0]']                  \n",
            "                                                                                                  \n",
            " res3c_branch2a (Conv2D)        (None, 23, 23, 64)   16448       ['activation_15[0][0]']          \n",
            "                                                                                                  \n",
            " bn3c_branch2a (BatchNormalizat  (None, 23, 23, 64)  256         ['res3c_branch2a[0][0]']         \n",
            " ion)                                                                                             \n",
            "                                                                                                  \n",
            " activation_16 (Activation)     (None, 23, 23, 64)   0           ['bn3c_branch2a[0][0]']          \n",
            "                                                                                                  \n",
            " res3c_branch2b (Conv2D)        (None, 23, 23, 64)   36928       ['activation_16[0][0]']          \n",
            "                                                                                                  \n",
            " bn3c_branch2b (BatchNormalizat  (None, 23, 23, 64)  256         ['res3c_branch2b[0][0]']         \n",
            " ion)                                                                                             \n",
            "                                                                                                  \n",
            " activation_17 (Activation)     (None, 23, 23, 64)   0           ['bn3c_branch2b[0][0]']          \n",
            "                                                                                                  \n",
            " res3c_branch2c (Conv2D)        (None, 23, 23, 256)  16640       ['activation_17[0][0]']          \n",
            "                                                                                                  \n",
            " bn3c_branch2c (BatchNormalizat  (None, 23, 23, 256)  1024       ['res3c_branch2c[0][0]']         \n",
            " ion)                                                                                             \n",
            "                                                                                                  \n",
            " add_5 (Add)                    (None, 23, 23, 256)  0           ['activation_15[0][0]',          \n",
            "                                                                  'bn3c_branch2c[0][0]']          \n",
            "                                                                                                  \n",
            " activation_18 (Activation)     (None, 23, 23, 256)  0           ['add_5[0][0]']                  \n",
            "                                                                                                  \n",
            " res3d_branch2a (Conv2D)        (None, 23, 23, 64)   16448       ['activation_18[0][0]']          \n",
            "                                                                                                  \n",
            " bn3d_branch2a (BatchNormalizat  (None, 23, 23, 64)  256         ['res3d_branch2a[0][0]']         \n",
            " ion)                                                                                             \n",
            "                                                                                                  \n",
            " activation_19 (Activation)     (None, 23, 23, 64)   0           ['bn3d_branch2a[0][0]']          \n",
            "                                                                                                  \n",
            " res3d_branch2b (Conv2D)        (None, 23, 23, 64)   36928       ['activation_19[0][0]']          \n",
            "                                                                                                  \n",
            " bn3d_branch2b (BatchNormalizat  (None, 23, 23, 64)  256         ['res3d_branch2b[0][0]']         \n",
            " ion)                                                                                             \n",
            "                                                                                                  \n",
            " activation_20 (Activation)     (None, 23, 23, 64)   0           ['bn3d_branch2b[0][0]']          \n",
            "                                                                                                  \n",
            " res3d_branch2c (Conv2D)        (None, 23, 23, 256)  16640       ['activation_20[0][0]']          \n",
            "                                                                                                  \n",
            " bn3d_branch2c (BatchNormalizat  (None, 23, 23, 256)  1024       ['res3d_branch2c[0][0]']         \n",
            " ion)                                                                                             \n",
            "                                                                                                  \n",
            " add_6 (Add)                    (None, 23, 23, 256)  0           ['activation_18[0][0]',          \n",
            "                                                                  'bn3d_branch2c[0][0]']          \n",
            "                                                                                                  \n",
            " activation_21 (Activation)     (None, 23, 23, 256)  0           ['add_6[0][0]']                  \n",
            "                                                                                                  \n",
            " res4a_branch2a (Conv2D)        (None, 12, 12, 128)  32896       ['activation_21[0][0]']          \n",
            "                                                                                                  \n",
            " bn4a_branch2a (BatchNormalizat  (None, 12, 12, 128)  512        ['res4a_branch2a[0][0]']         \n",
            " ion)                                                                                             \n",
            "                                                                                                  \n",
            " activation_22 (Activation)     (None, 12, 12, 128)  0           ['bn4a_branch2a[0][0]']          \n",
            "                                                                                                  \n",
            " res4a_branch2b (Conv2D)        (None, 12, 12, 128)  147584      ['activation_22[0][0]']          \n",
            "                                                                                                  \n",
            " bn4a_branch2b (BatchNormalizat  (None, 12, 12, 128)  512        ['res4a_branch2b[0][0]']         \n",
            " ion)                                                                                             \n",
            "                                                                                                  \n",
            " activation_23 (Activation)     (None, 12, 12, 128)  0           ['bn4a_branch2b[0][0]']          \n",
            "                                                                                                  \n",
            " res4a_branch1 (Conv2D)         (None, 12, 12, 512)  131584      ['activation_21[0][0]']          \n",
            "                                                                                                  \n",
            " res4a_branch2c (Conv2D)        (None, 12, 12, 512)  66048       ['activation_23[0][0]']          \n",
            "                                                                                                  \n",
            " bn4a_branch1 (BatchNormalizati  (None, 12, 12, 512)  2048       ['res4a_branch1[0][0]']          \n",
            " on)                                                                                              \n",
            "                                                                                                  \n",
            " bn4a_branch2c (BatchNormalizat  (None, 12, 12, 512)  2048       ['res4a_branch2c[0][0]']         \n",
            " ion)                                                                                             \n",
            "                                                                                                  \n",
            " add_7 (Add)                    (None, 12, 12, 512)  0           ['bn4a_branch1[0][0]',           \n",
            "                                                                  'bn4a_branch2c[0][0]']          \n",
            "                                                                                                  \n",
            " activation_24 (Activation)     (None, 12, 12, 512)  0           ['add_7[0][0]']                  \n",
            "                                                                                                  \n",
            " res4b_branch2a (Conv2D)        (None, 12, 12, 128)  65664       ['activation_24[0][0]']          \n",
            "                                                                                                  \n",
            " bn4b_branch2a (BatchNormalizat  (None, 12, 12, 128)  512        ['res4b_branch2a[0][0]']         \n",
            " ion)                                                                                             \n",
            "                                                                                                  \n",
            " activation_25 (Activation)     (None, 12, 12, 128)  0           ['bn4b_branch2a[0][0]']          \n",
            "                                                                                                  \n",
            " res4b_branch2b (Conv2D)        (None, 12, 12, 128)  147584      ['activation_25[0][0]']          \n",
            "                                                                                                  \n",
            " bn4b_branch2b (BatchNormalizat  (None, 12, 12, 128)  512        ['res4b_branch2b[0][0]']         \n",
            " ion)                                                                                             \n",
            "                                                                                                  \n",
            " activation_26 (Activation)     (None, 12, 12, 128)  0           ['bn4b_branch2b[0][0]']          \n",
            "                                                                                                  \n",
            " res4b_branch2c (Conv2D)        (None, 12, 12, 512)  66048       ['activation_26[0][0]']          \n",
            "                                                                                                  \n",
            " bn4b_branch2c (BatchNormalizat  (None, 12, 12, 512)  2048       ['res4b_branch2c[0][0]']         \n",
            " ion)                                                                                             \n",
            "                                                                                                  \n",
            " add_8 (Add)                    (None, 12, 12, 512)  0           ['activation_24[0][0]',          \n",
            "                                                                  'bn4b_branch2c[0][0]']          \n",
            "                                                                                                  \n",
            " activation_27 (Activation)     (None, 12, 12, 512)  0           ['add_8[0][0]']                  \n",
            "                                                                                                  \n",
            " res4c_branch2a (Conv2D)        (None, 12, 12, 128)  65664       ['activation_27[0][0]']          \n",
            "                                                                                                  \n",
            " bn4c_branch2a (BatchNormalizat  (None, 12, 12, 128)  512        ['res4c_branch2a[0][0]']         \n",
            " ion)                                                                                             \n",
            "                                                                                                  \n",
            " activation_28 (Activation)     (None, 12, 12, 128)  0           ['bn4c_branch2a[0][0]']          \n",
            "                                                                                                  \n",
            " res4c_branch2b (Conv2D)        (None, 12, 12, 128)  147584      ['activation_28[0][0]']          \n",
            "                                                                                                  \n",
            " bn4c_branch2b (BatchNormalizat  (None, 12, 12, 128)  512        ['res4c_branch2b[0][0]']         \n",
            " ion)                                                                                             \n",
            "                                                                                                  \n",
            " activation_29 (Activation)     (None, 12, 12, 128)  0           ['bn4c_branch2b[0][0]']          \n",
            "                                                                                                  \n",
            " res4c_branch2c (Conv2D)        (None, 12, 12, 512)  66048       ['activation_29[0][0]']          \n",
            "                                                                                                  \n",
            " bn4c_branch2c (BatchNormalizat  (None, 12, 12, 512)  2048       ['res4c_branch2c[0][0]']         \n",
            " ion)                                                                                             \n",
            "                                                                                                  \n",
            " add_9 (Add)                    (None, 12, 12, 512)  0           ['activation_27[0][0]',          \n",
            "                                                                  'bn4c_branch2c[0][0]']          \n",
            "                                                                                                  \n",
            " activation_30 (Activation)     (None, 12, 12, 512)  0           ['add_9[0][0]']                  \n",
            "                                                                                                  \n",
            " res4d_branch2a (Conv2D)        (None, 12, 12, 128)  65664       ['activation_30[0][0]']          \n",
            "                                                                                                  \n",
            " bn4d_branch2a (BatchNormalizat  (None, 12, 12, 128)  512        ['res4d_branch2a[0][0]']         \n",
            " ion)                                                                                             \n",
            "                                                                                                  \n",
            " activation_31 (Activation)     (None, 12, 12, 128)  0           ['bn4d_branch2a[0][0]']          \n",
            "                                                                                                  \n",
            " res4d_branch2b (Conv2D)        (None, 12, 12, 128)  147584      ['activation_31[0][0]']          \n",
            "                                                                                                  \n",
            " bn4d_branch2b (BatchNormalizat  (None, 12, 12, 128)  512        ['res4d_branch2b[0][0]']         \n",
            " ion)                                                                                             \n",
            "                                                                                                  \n",
            " activation_32 (Activation)     (None, 12, 12, 128)  0           ['bn4d_branch2b[0][0]']          \n",
            "                                                                                                  \n",
            " res4d_branch2c (Conv2D)        (None, 12, 12, 512)  66048       ['activation_32[0][0]']          \n",
            "                                                                                                  \n",
            " bn4d_branch2c (BatchNormalizat  (None, 12, 12, 512)  2048       ['res4d_branch2c[0][0]']         \n",
            " ion)                                                                                             \n",
            "                                                                                                  \n",
            " add_10 (Add)                   (None, 12, 12, 512)  0           ['activation_30[0][0]',          \n",
            "                                                                  'bn4d_branch2c[0][0]']          \n",
            "                                                                                                  \n",
            " activation_33 (Activation)     (None, 12, 12, 512)  0           ['add_10[0][0]']                 \n",
            "                                                                                                  \n",
            " res4e_branch2a (Conv2D)        (None, 12, 12, 128)  65664       ['activation_33[0][0]']          \n",
            "                                                                                                  \n",
            " bn4e_branch2a (BatchNormalizat  (None, 12, 12, 128)  512        ['res4e_branch2a[0][0]']         \n",
            " ion)                                                                                             \n",
            "                                                                                                  \n",
            " activation_34 (Activation)     (None, 12, 12, 128)  0           ['bn4e_branch2a[0][0]']          \n",
            "                                                                                                  \n",
            " res4e_branch2b (Conv2D)        (None, 12, 12, 128)  147584      ['activation_34[0][0]']          \n",
            "                                                                                                  \n",
            " bn4e_branch2b (BatchNormalizat  (None, 12, 12, 128)  512        ['res4e_branch2b[0][0]']         \n",
            " ion)                                                                                             \n",
            "                                                                                                  \n",
            " activation_35 (Activation)     (None, 12, 12, 128)  0           ['bn4e_branch2b[0][0]']          \n",
            "                                                                                                  \n",
            " res4e_branch2c (Conv2D)        (None, 12, 12, 512)  66048       ['activation_35[0][0]']          \n",
            "                                                                                                  \n",
            " bn4e_branch2c (BatchNormalizat  (None, 12, 12, 512)  2048       ['res4e_branch2c[0][0]']         \n",
            " ion)                                                                                             \n",
            "                                                                                                  \n",
            " add_11 (Add)                   (None, 12, 12, 512)  0           ['activation_33[0][0]',          \n",
            "                                                                  'bn4e_branch2c[0][0]']          \n",
            "                                                                                                  \n",
            " activation_36 (Activation)     (None, 12, 12, 512)  0           ['add_11[0][0]']                 \n",
            "                                                                                                  \n",
            " res4f_branch2a (Conv2D)        (None, 12, 12, 128)  65664       ['activation_36[0][0]']          \n",
            "                                                                                                  \n",
            " bn4f_branch2a (BatchNormalizat  (None, 12, 12, 128)  512        ['res4f_branch2a[0][0]']         \n",
            " ion)                                                                                             \n",
            "                                                                                                  \n",
            " activation_37 (Activation)     (None, 12, 12, 128)  0           ['bn4f_branch2a[0][0]']          \n",
            "                                                                                                  \n",
            " res4f_branch2b (Conv2D)        (None, 12, 12, 128)  147584      ['activation_37[0][0]']          \n",
            "                                                                                                  \n",
            " bn4f_branch2b (BatchNormalizat  (None, 12, 12, 128)  512        ['res4f_branch2b[0][0]']         \n",
            " ion)                                                                                             \n",
            "                                                                                                  \n",
            " activation_38 (Activation)     (None, 12, 12, 128)  0           ['bn4f_branch2b[0][0]']          \n",
            "                                                                                                  \n",
            " res4f_branch2c (Conv2D)        (None, 12, 12, 512)  66048       ['activation_38[0][0]']          \n",
            "                                                                                                  \n",
            " bn4f_branch2c (BatchNormalizat  (None, 12, 12, 512)  2048       ['res4f_branch2c[0][0]']         \n",
            " ion)                                                                                             \n",
            "                                                                                                  \n",
            " add_12 (Add)                   (None, 12, 12, 512)  0           ['activation_36[0][0]',          \n",
            "                                                                  'bn4f_branch2c[0][0]']          \n",
            "                                                                                                  \n",
            " activation_39 (Activation)     (None, 12, 12, 512)  0           ['add_12[0][0]']                 \n",
            "                                                                                                  \n",
            " res5a_branch2a (Conv2D)        (None, 6, 6, 256)    131328      ['activation_39[0][0]']          \n",
            "                                                                                                  \n",
            " bn5a_branch2a (BatchNormalizat  (None, 6, 6, 256)   1024        ['res5a_branch2a[0][0]']         \n",
            " ion)                                                                                             \n",
            "                                                                                                  \n",
            " activation_40 (Activation)     (None, 6, 6, 256)    0           ['bn5a_branch2a[0][0]']          \n",
            "                                                                                                  \n",
            " res5a_branch2b (Conv2D)        (None, 6, 6, 256)    590080      ['activation_40[0][0]']          \n",
            "                                                                                                  \n",
            " bn5a_branch2b (BatchNormalizat  (None, 6, 6, 256)   1024        ['res5a_branch2b[0][0]']         \n",
            " ion)                                                                                             \n",
            "                                                                                                  \n",
            " activation_41 (Activation)     (None, 6, 6, 256)    0           ['bn5a_branch2b[0][0]']          \n",
            "                                                                                                  \n",
            " res5a_branch1 (Conv2D)         (None, 6, 6, 1024)   525312      ['activation_39[0][0]']          \n",
            "                                                                                                  \n",
            " res5a_branch2c (Conv2D)        (None, 6, 6, 1024)   263168      ['activation_41[0][0]']          \n",
            "                                                                                                  \n",
            " bn5a_branch1 (BatchNormalizati  (None, 6, 6, 1024)  4096        ['res5a_branch1[0][0]']          \n",
            " on)                                                                                              \n",
            "                                                                                                  \n",
            " bn5a_branch2c (BatchNormalizat  (None, 6, 6, 1024)  4096        ['res5a_branch2c[0][0]']         \n",
            " ion)                                                                                             \n",
            "                                                                                                  \n",
            " add_13 (Add)                   (None, 6, 6, 1024)   0           ['bn5a_branch1[0][0]',           \n",
            "                                                                  'bn5a_branch2c[0][0]']          \n",
            "                                                                                                  \n",
            " activation_42 (Activation)     (None, 6, 6, 1024)   0           ['add_13[0][0]']                 \n",
            "                                                                                                  \n",
            " res5b_branch2a (Conv2D)        (None, 6, 6, 256)    262400      ['activation_42[0][0]']          \n",
            "                                                                                                  \n",
            " bn5b_branch2a (BatchNormalizat  (None, 6, 6, 256)   1024        ['res5b_branch2a[0][0]']         \n",
            " ion)                                                                                             \n",
            "                                                                                                  \n",
            " activation_43 (Activation)     (None, 6, 6, 256)    0           ['bn5b_branch2a[0][0]']          \n",
            "                                                                                                  \n",
            " res5b_branch2b (Conv2D)        (None, 6, 6, 256)    590080      ['activation_43[0][0]']          \n",
            "                                                                                                  \n",
            " bn5b_branch2b (BatchNormalizat  (None, 6, 6, 256)   1024        ['res5b_branch2b[0][0]']         \n",
            " ion)                                                                                             \n",
            "                                                                                                  \n",
            " activation_44 (Activation)     (None, 6, 6, 256)    0           ['bn5b_branch2b[0][0]']          \n",
            "                                                                                                  \n",
            " res5b_branch2c (Conv2D)        (None, 6, 6, 1024)   263168      ['activation_44[0][0]']          \n",
            "                                                                                                  \n",
            " bn5b_branch2c (BatchNormalizat  (None, 6, 6, 1024)  4096        ['res5b_branch2c[0][0]']         \n",
            " ion)                                                                                             \n",
            "                                                                                                  \n",
            " add_14 (Add)                   (None, 6, 6, 1024)   0           ['activation_42[0][0]',          \n",
            "                                                                  'bn5b_branch2c[0][0]']          \n",
            "                                                                                                  \n",
            " activation_45 (Activation)     (None, 6, 6, 1024)   0           ['add_14[0][0]']                 \n",
            "                                                                                                  \n",
            " res5c_branch2a (Conv2D)        (None, 6, 6, 256)    262400      ['activation_45[0][0]']          \n",
            "                                                                                                  \n",
            " bn5c_branch2a (BatchNormalizat  (None, 6, 6, 256)   1024        ['res5c_branch2a[0][0]']         \n",
            " ion)                                                                                             \n",
            "                                                                                                  \n",
            " activation_46 (Activation)     (None, 6, 6, 256)    0           ['bn5c_branch2a[0][0]']          \n",
            "                                                                                                  \n",
            " res5c_branch2b (Conv2D)        (None, 6, 6, 256)    590080      ['activation_46[0][0]']          \n",
            "                                                                                                  \n",
            " bn5c_branch2b (BatchNormalizat  (None, 6, 6, 256)   1024        ['res5c_branch2b[0][0]']         \n",
            " ion)                                                                                             \n",
            "                                                                                                  \n",
            " activation_47 (Activation)     (None, 6, 6, 256)    0           ['bn5c_branch2b[0][0]']          \n",
            "                                                                                                  \n",
            " res5c_branch2c (Conv2D)        (None, 6, 6, 1024)   263168      ['activation_47[0][0]']          \n",
            "                                                                                                  \n",
            " bn5c_branch2c (BatchNormalizat  (None, 6, 6, 1024)  4096        ['res5c_branch2c[0][0]']         \n",
            " ion)                                                                                             \n",
            "                                                                                                  \n",
            " add_15 (Add)                   (None, 6, 6, 1024)   0           ['activation_45[0][0]',          \n",
            "                                                                  'bn5c_branch2c[0][0]']          \n",
            "                                                                                                  \n",
            " activation_48 (Activation)     (None, 6, 6, 1024)   0           ['add_15[0][0]']                 \n",
            "                                                                                                  \n",
            " avg_pool (AveragePooling2D)    (None, 3, 3, 1024)   0           ['activation_48[0][0]']          \n",
            "                                                                                                  \n",
            " flatten (Flatten)              (None, 9216)         0           ['avg_pool[0][0]']               \n",
            "                                                                                                  \n",
            " fc1024 (Dense)                 (None, 512)          4719104     ['flatten[0][0]']                \n",
            "                                                                                                  \n",
            " fc7 (Dense)                    (None, 7)            3591        ['fc1024[0][0]']                 \n",
            "                                                                                                  \n",
            "==================================================================================================\n",
            "Total params: 10,646,583\n",
            "Trainable params: 10,620,071\n",
            "Non-trainable params: 26,512\n",
            "__________________________________________________________________________________________________\n"
          ]
        }
      ]
    },
    {
      "cell_type": "code",
      "source": [
        "history = model.fit(data_generator.flow(X_train, Y_train,),\n",
        "                        steps_per_epoch=len(X_train) / 32,\n",
        "                        batch_size = 32,\n",
        "                        epochs=30, verbose=1, callbacks=callbacks,\n",
        "                        validation_data= (X_val,Y_val),\n",
        "                        shuffle = True)"
      ],
      "metadata": {
        "colab": {
          "base_uri": "https://localhost:8080/"
        },
        "id": "rr-lbUb1iOrp",
        "outputId": "bb2c0f34-2987-41d1-fe68-2a90e6e5d44c"
      },
      "execution_count": 23,
      "outputs": [
        {
          "output_type": "stream",
          "name": "stdout",
          "text": [
            "Epoch 1/30\n",
            "898/897 [==============================] - ETA: 0s - loss: 2.0045 - accuracy: 0.2521\n",
            "Epoch 1: val_loss improved from inf to 1.68606, saving model to model_resnet/model_wiehgts.hdf5\n",
            "897/897 [==============================] - 108s 102ms/step - loss: 2.0045 - accuracy: 0.2521 - val_loss: 1.6861 - val_accuracy: 0.3199 - lr: 5.0000e-04\n",
            "Epoch 2/30\n",
            "898/897 [==============================] - ETA: 0s - loss: 1.6136 - accuracy: 0.3610\n",
            "Epoch 2: val_loss improved from 1.68606 to 1.54070, saving model to model_resnet/model_wiehgts.hdf5\n",
            "897/897 [==============================] - 93s 103ms/step - loss: 1.6136 - accuracy: 0.3610 - val_loss: 1.5407 - val_accuracy: 0.3962 - lr: 5.0000e-04\n",
            "Epoch 3/30\n",
            "898/897 [==============================] - ETA: 0s - loss: 1.4574 - accuracy: 0.4299\n",
            "Epoch 3: val_loss did not improve from 1.54070\n",
            "897/897 [==============================] - 92s 103ms/step - loss: 1.4574 - accuracy: 0.4299 - val_loss: 2.4220 - val_accuracy: 0.2862 - lr: 5.0000e-04\n",
            "Epoch 4/30\n",
            "898/897 [==============================] - ETA: 0s - loss: 1.3764 - accuracy: 0.4691\n",
            "Epoch 4: val_loss improved from 1.54070 to 1.33691, saving model to model_resnet/model_wiehgts.hdf5\n",
            "897/897 [==============================] - 93s 104ms/step - loss: 1.3764 - accuracy: 0.4691 - val_loss: 1.3369 - val_accuracy: 0.4974 - lr: 5.0000e-04\n",
            "Epoch 5/30\n",
            "898/897 [==============================] - ETA: 0s - loss: 1.2729 - accuracy: 0.5112\n",
            "Epoch 5: val_loss did not improve from 1.33691\n",
            "897/897 [==============================] - 92s 103ms/step - loss: 1.2729 - accuracy: 0.5112 - val_loss: 1.3585 - val_accuracy: 0.4976 - lr: 5.0000e-04\n",
            "Epoch 6/30\n",
            "898/897 [==============================] - ETA: 0s - loss: 1.2266 - accuracy: 0.5360\n",
            "Epoch 6: val_loss improved from 1.33691 to 1.20169, saving model to model_resnet/model_wiehgts.hdf5\n",
            "897/897 [==============================] - 93s 103ms/step - loss: 1.2266 - accuracy: 0.5360 - val_loss: 1.2017 - val_accuracy: 0.5280 - lr: 5.0000e-04\n",
            "Epoch 7/30\n",
            "898/897 [==============================] - ETA: 0s - loss: 1.1839 - accuracy: 0.5519\n",
            "Epoch 7: val_loss did not improve from 1.20169\n",
            "897/897 [==============================] - 92s 103ms/step - loss: 1.1839 - accuracy: 0.5519 - val_loss: 1.3440 - val_accuracy: 0.5040 - lr: 5.0000e-04\n",
            "Epoch 8/30\n",
            "898/897 [==============================] - ETA: 0s - loss: 1.1503 - accuracy: 0.5646\n",
            "Epoch 8: val_loss did not improve from 1.20169\n",
            "897/897 [==============================] - 92s 103ms/step - loss: 1.1503 - accuracy: 0.5646 - val_loss: 1.4740 - val_accuracy: 0.4812 - lr: 5.0000e-04\n",
            "Epoch 9/30\n",
            "898/897 [==============================] - ETA: 0s - loss: 1.1135 - accuracy: 0.5779\n",
            "Epoch 9: val_loss improved from 1.20169 to 1.17230, saving model to model_resnet/model_wiehgts.hdf5\n",
            "897/897 [==============================] - 93s 103ms/step - loss: 1.1135 - accuracy: 0.5779 - val_loss: 1.1723 - val_accuracy: 0.5676 - lr: 5.0000e-04\n",
            "Epoch 10/30\n",
            "898/897 [==============================] - ETA: 0s - loss: 1.0884 - accuracy: 0.5889\n",
            "Epoch 10: val_loss improved from 1.17230 to 1.13881, saving model to model_resnet/model_wiehgts.hdf5\n",
            "897/897 [==============================] - 93s 103ms/step - loss: 1.0884 - accuracy: 0.5889 - val_loss: 1.1388 - val_accuracy: 0.5793 - lr: 5.0000e-04\n",
            "Epoch 11/30\n",
            "898/897 [==============================] - ETA: 0s - loss: 1.0707 - accuracy: 0.5962\n",
            "Epoch 11: val_loss improved from 1.13881 to 1.13340, saving model to model_resnet/model_wiehgts.hdf5\n",
            "897/897 [==============================] - 93s 103ms/step - loss: 1.0707 - accuracy: 0.5962 - val_loss: 1.1334 - val_accuracy: 0.5829 - lr: 5.0000e-04\n",
            "Epoch 12/30\n",
            "898/897 [==============================] - ETA: 0s - loss: 1.0445 - accuracy: 0.6029\n",
            "Epoch 12: val_loss did not improve from 1.13340\n",
            "897/897 [==============================] - 92s 102ms/step - loss: 1.0445 - accuracy: 0.6029 - val_loss: 1.1357 - val_accuracy: 0.5648 - lr: 5.0000e-04\n",
            "Epoch 13/30\n",
            "898/897 [==============================] - ETA: 0s - loss: 1.0277 - accuracy: 0.6102\n",
            "Epoch 13: val_loss did not improve from 1.13340\n",
            "897/897 [==============================] - 92s 102ms/step - loss: 1.0277 - accuracy: 0.6102 - val_loss: 1.1921 - val_accuracy: 0.5762 - lr: 5.0000e-04\n",
            "Epoch 14/30\n",
            "898/897 [==============================] - ETA: 0s - loss: 1.0060 - accuracy: 0.6246\n",
            "Epoch 14: val_loss improved from 1.13340 to 1.11774, saving model to model_resnet/model_wiehgts.hdf5\n",
            "897/897 [==============================] - 93s 103ms/step - loss: 1.0060 - accuracy: 0.6246 - val_loss: 1.1177 - val_accuracy: 0.5918 - lr: 5.0000e-04\n",
            "Epoch 15/30\n",
            "898/897 [==============================] - ETA: 0s - loss: 0.9934 - accuracy: 0.6245\n",
            "Epoch 15: val_loss improved from 1.11774 to 1.05749, saving model to model_resnet/model_wiehgts.hdf5\n",
            "897/897 [==============================] - 92s 103ms/step - loss: 0.9934 - accuracy: 0.6245 - val_loss: 1.0575 - val_accuracy: 0.6004 - lr: 5.0000e-04\n",
            "Epoch 16/30\n",
            "898/897 [==============================] - ETA: 0s - loss: 0.9766 - accuracy: 0.6356\n",
            "Epoch 16: val_loss did not improve from 1.05749\n",
            "897/897 [==============================] - 92s 102ms/step - loss: 0.9766 - accuracy: 0.6356 - val_loss: 1.0606 - val_accuracy: 0.6007 - lr: 5.0000e-04\n",
            "Epoch 17/30\n",
            "898/897 [==============================] - ETA: 0s - loss: 0.9623 - accuracy: 0.6402\n",
            "Epoch 17: val_loss did not improve from 1.05749\n",
            "897/897 [==============================] - 92s 102ms/step - loss: 0.9623 - accuracy: 0.6402 - val_loss: 1.1911 - val_accuracy: 0.5684 - lr: 5.0000e-04\n",
            "Epoch 18/30\n",
            "898/897 [==============================] - ETA: 0s - loss: 0.9506 - accuracy: 0.6424\n",
            "Epoch 18: val_loss improved from 1.05749 to 1.02877, saving model to model_resnet/model_wiehgts.hdf5\n",
            "897/897 [==============================] - 92s 103ms/step - loss: 0.9506 - accuracy: 0.6424 - val_loss: 1.0288 - val_accuracy: 0.6105 - lr: 5.0000e-04\n",
            "Epoch 19/30\n",
            "898/897 [==============================] - ETA: 0s - loss: 0.9400 - accuracy: 0.6501\n",
            "Epoch 19: val_loss did not improve from 1.02877\n",
            "897/897 [==============================] - 92s 102ms/step - loss: 0.9400 - accuracy: 0.6501 - val_loss: 1.0370 - val_accuracy: 0.6155 - lr: 5.0000e-04\n",
            "Epoch 20/30\n",
            "898/897 [==============================] - ETA: 0s - loss: 0.9232 - accuracy: 0.6566\n",
            "Epoch 20: val_loss did not improve from 1.02877\n",
            "897/897 [==============================] - 92s 102ms/step - loss: 0.9232 - accuracy: 0.6566 - val_loss: 1.0452 - val_accuracy: 0.6233 - lr: 5.0000e-04\n",
            "Epoch 21/30\n",
            "898/897 [==============================] - ETA: 0s - loss: 0.9094 - accuracy: 0.6585\n",
            "Epoch 21: val_loss did not improve from 1.02877\n",
            "897/897 [==============================] - 92s 103ms/step - loss: 0.9094 - accuracy: 0.6585 - val_loss: 1.1210 - val_accuracy: 0.6007 - lr: 5.0000e-04\n",
            "Epoch 22/30\n",
            "898/897 [==============================] - ETA: 0s - loss: 0.8996 - accuracy: 0.6603\n",
            "Epoch 22: val_loss did not improve from 1.02877\n",
            "897/897 [==============================] - 92s 102ms/step - loss: 0.8996 - accuracy: 0.6603 - val_loss: 1.0561 - val_accuracy: 0.6041 - lr: 5.0000e-04\n",
            "Epoch 23/30\n",
            "898/897 [==============================] - ETA: 0s - loss: 0.8876 - accuracy: 0.6666\n",
            "Epoch 23: val_loss did not improve from 1.02877\n",
            "897/897 [==============================] - 92s 102ms/step - loss: 0.8876 - accuracy: 0.6666 - val_loss: 1.0355 - val_accuracy: 0.6177 - lr: 5.0000e-04\n",
            "Epoch 24/30\n",
            "898/897 [==============================] - ETA: 0s - loss: 0.8757 - accuracy: 0.6722\n",
            "Epoch 24: val_loss did not improve from 1.02877\n",
            "897/897 [==============================] - 92s 103ms/step - loss: 0.8757 - accuracy: 0.6722 - val_loss: 1.0312 - val_accuracy: 0.6230 - lr: 5.0000e-04\n",
            "Epoch 25/30\n",
            "898/897 [==============================] - ETA: 0s - loss: 0.8664 - accuracy: 0.6744\n",
            "Epoch 25: val_loss improved from 1.02877 to 1.02541, saving model to model_resnet/model_wiehgts.hdf5\n",
            "897/897 [==============================] - 93s 103ms/step - loss: 0.8664 - accuracy: 0.6744 - val_loss: 1.0254 - val_accuracy: 0.6361 - lr: 5.0000e-04\n",
            "Epoch 26/30\n",
            "898/897 [==============================] - ETA: 0s - loss: 0.8544 - accuracy: 0.6783\n",
            "Epoch 26: val_loss did not improve from 1.02541\n",
            "897/897 [==============================] - 92s 103ms/step - loss: 0.8544 - accuracy: 0.6783 - val_loss: 1.0527 - val_accuracy: 0.6197 - lr: 5.0000e-04\n",
            "Epoch 27/30\n",
            "898/897 [==============================] - ETA: 0s - loss: 0.8426 - accuracy: 0.6839\n",
            "Epoch 27: val_loss did not improve from 1.02541\n",
            "897/897 [==============================] - 92s 102ms/step - loss: 0.8426 - accuracy: 0.6839 - val_loss: 1.0549 - val_accuracy: 0.6133 - lr: 5.0000e-04\n",
            "Epoch 28/30\n",
            "898/897 [==============================] - ETA: 0s - loss: 0.8302 - accuracy: 0.6884\n",
            "Epoch 28: val_loss improved from 1.02541 to 1.02521, saving model to model_resnet/model_wiehgts.hdf5\n",
            "897/897 [==============================] - 93s 103ms/step - loss: 0.8302 - accuracy: 0.6884 - val_loss: 1.0252 - val_accuracy: 0.6353 - lr: 5.0000e-04\n",
            "Epoch 29/30\n",
            "898/897 [==============================] - ETA: 0s - loss: 0.8233 - accuracy: 0.6898\n",
            "Epoch 29: val_loss did not improve from 1.02521\n",
            "897/897 [==============================] - 91s 102ms/step - loss: 0.8233 - accuracy: 0.6898 - val_loss: 1.0385 - val_accuracy: 0.6266 - lr: 5.0000e-04\n",
            "Epoch 30/30\n",
            "898/897 [==============================] - ETA: 0s - loss: 0.8113 - accuracy: 0.6964\n",
            "Epoch 30: val_loss improved from 1.02521 to 1.00299, saving model to model_resnet/model_wiehgts.hdf5\n",
            "897/897 [==============================] - 93s 103ms/step - loss: 0.8113 - accuracy: 0.6964 - val_loss: 1.0030 - val_accuracy: 0.6369 - lr: 5.0000e-04\n"
          ]
        }
      ]
    },
    {
      "cell_type": "markdown",
      "source": [
        "## Evaluate Model"
      ],
      "metadata": {
        "id": "ehk2cc9LinLW"
      }
    },
    {
      "cell_type": "code",
      "source": [
        "model_json = model.to_json()\n",
        "with open(\"model.json\",\"w\") as json_file:\n",
        "    json_file.write(model_json)"
      ],
      "metadata": {
        "id": "c5uSUusNwMhx"
      },
      "execution_count": 34,
      "outputs": []
    },
    {
      "cell_type": "code",
      "source": [
        "import matplotlib.pyplot as plt\n",
        "fig, ax = plt.subplots(2,1)\n",
        "ax[0].plot(history.history['loss'], color='b', label=\"Training loss\")\n",
        "ax[0].plot(history.history['val_loss'], color='r', label=\"validation loss\",axes =ax[0])\n",
        "legend = ax[0].legend(loc='best', shadow=True)\n",
        "\n",
        "ax[1].plot(history.history['accuracy'], color='b', label=\"Training accuracy\")\n",
        "ax[1].plot(history.history['val_accuracy'], color='r',label=\"Validation accuracy\")\n",
        "legend = ax[1].legend(loc='best', shadow=True)"
      ],
      "metadata": {
        "colab": {
          "base_uri": "https://localhost:8080/",
          "height": 269
        },
        "id": "_R5JF0ouwTNi",
        "outputId": "8cc57e24-e61f-49a2-ec28-1f6320af8a55"
      },
      "execution_count": 35,
      "outputs": [
        {
          "output_type": "display_data",
          "data": {
            "text/plain": [
              "<Figure size 432x288 with 2 Axes>"
            ],
            "image/png": "[encoded data removed]"
          },
          "metadata": {
            "needs_background": "light"
          }
        }
      ]
    },
    {
      "cell_type": "code",
      "source": [
        "def plot_confusion_matrix(cm, classes,\n",
        "                          normalize=False,\n",
        "                          title='Confusion matrix',\n",
        "                          cmap=plt.cm.Blues):\n",
        "  \n",
        "    plt.imshow(cm, interpolation='nearest', cmap=cmap)\n",
        "    plt.title(title)\n",
        "    plt.colorbar()\n",
        "    tick_marks = np.arange(len(classes))\n",
        "    plt.xticks(tick_marks, classes, rotation=45)\n",
        "    plt.yticks(tick_marks, classes)\n",
        "    \n",
        "    \n",
        "    if normalize:\n",
        "        cm = cm.astype('float') / cm.sum(axis=1)[:, np.newaxis]\n",
        "\n",
        "    thresh = cm.max() / 2.\n",
        "    for i, j in itertools.product(range(cm.shape[0]), range(cm.shape[1])):\n",
        "        plt.text(j, i, cm[i, j],\n",
        "                 horizontalalignment=\"center\",\n",
        "                 color=\"white\" if cm[i, j] > thresh else \"black\")\n",
        "\n",
        "    plt.tight_layout()\n",
        "    plt.ylabel('True label')\n",
        "    plt.xlabel('Predicted label')\n",
        "\n",
        "# Predict the values from the validation dataset\n",
        "Y_pred = model.predict(X_val)\n",
        "# Convert predictions classes to one hot vectors \n",
        "Y_pred_classes = np.argmax(Y_pred,axis = 1) \n",
        "# Convert validation observations to one hot vectors\n",
        "Y_true = np.argmax(Y_val,axis = 1) \n",
        "# compute the confusion matrix\n",
        "confusion_mtx = confusion_matrix(Y_true, Y_pred_classes) \n",
        "# plot the confusion matrix\n",
        "plot_confusion_matrix(confusion_mtx, classes = range(10)) "
      ],
      "metadata": {
        "colab": {
          "base_uri": "https://localhost:8080/",
          "height": 311
        },
        "id": "NfvqFjNPwX-u",
        "outputId": "f9a196f4-ee06-4aad-ebc4-8c2929aa489c"
      },
      "execution_count": 36,
      "outputs": [
        {
          "output_type": "display_data",
          "data": {
            "text/plain": [
              "<Figure size 432x288 with 2 Axes>"
            ],
            "image/png": "[encoded data removed]"
          },
          "metadata": {
            "needs_background": "light"
          }
        }
      ]
    },
    {
      "cell_type": "code",
      "source": [
        "img = image.load_img(\"test.png\",target_size = (48,48),color_mode = \"grayscale\")\n",
        "img = np.array(img)\n",
        "plt.imshow(img)\n",
        "print(img.shape) #"
      ],
      "metadata": {
        "colab": {
          "base_uri": "https://localhost:8080/",
          "height": 284
        },
        "id": "6LheIEoBweH-",
        "outputId": "0baf758a-361a-4e77-cf50-e22b03a1f7dc"
      },
      "execution_count": 37,
      "outputs": [
        {
          "output_type": "stream",
          "name": "stdout",
          "text": [
            "(48, 48)\n"
          ]
        },
        {
          "output_type": "display_data",
          "data": {
            "text/plain": [
              "<Figure size 432x288 with 1 Axes>"
            ],
            "image/png": "[encoded data removed]"
          },
          "metadata": {
            "needs_background": "light"
          }
        }
      ]
    },
    {
      "cell_type": "code",
      "source": [
        "label_dict = {0:'Angry',1:'Disgust',2:'Fear',3:'Happy',4:'Neutral',5:'Sad',6:'Surprise'}"
      ],
      "metadata": {
        "id": "-JG6OD6swgQQ"
      },
      "execution_count": 38,
      "outputs": []
    },
    {
      "cell_type": "code",
      "source": [
        "img = np.expand_dims(img,axis = 0) #makes image shape (1,48,48)\n",
        "img = img.reshape(1,48,48,1)\n",
        "result = model.predict(img)\n",
        "result = list(result[0])\n",
        "print(result)"
      ],
      "metadata": {
        "colab": {
          "base_uri": "https://localhost:8080/"
        },
        "id": "vVGVn-JAwjm7",
        "outputId": "a5beb202-8048-4cea-cbd6-f9111f20759c"
      },
      "execution_count": 39,
      "outputs": [
        {
          "output_type": "stream",
          "name": "stdout",
          "text": [
            "[0.0, 0.0, 0.0, 0.0, 0.0, 1.0, 0.0]\n"
          ]
        }
      ]
    },
    {
      "cell_type": "code",
      "source": [
        "img_index = result.index(max(result))\n",
        "print(label_dict[img_index])\n",
        "plt.show()"
      ],
      "metadata": {
        "colab": {
          "base_uri": "https://localhost:8080/"
        },
        "id": "HTsSBuZvwn0l",
        "outputId": "083a28a3-066b-4c41-e022-551855c99bc5"
      },
      "execution_count": 40,
      "outputs": [
        {
          "output_type": "stream",
          "name": "stdout",
          "text": [
            "Sad\n"
          ]
        }
      ]
    },
    {
      "cell_type": "code",
      "source": [
        "score, acc = model.evaluate(X_test, Y_test, batch_size=32)\n",
        "print('Test score:', score)\n",
        "print(\"Test accuracy:\", acc)"
      ],
      "metadata": {
        "id": "9LFOqpiBi0LZ",
        "colab": {
          "base_uri": "https://localhost:8080/"
        },
        "outputId": "370c8275-05f9-4d29-9be2-e460bf5c4967"
      },
      "execution_count": 32,
      "outputs": [
        {
          "output_type": "stream",
          "name": "stdout",
          "text": [
            "113/113 [==============================] - 3s 28ms/step - loss: 0.9642 - accuracy: 0.6475\n",
            "Test score: 0.964152455329895\n",
            "Test accuracy: 0.6475341320037842\n"
          ]
        }
      ]
    }
  ]
}