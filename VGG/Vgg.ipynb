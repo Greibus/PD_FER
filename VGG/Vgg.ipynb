{
  "nbformat": 4,
  "nbformat_minor": 0,
  "metadata": {
    "colab": {
      "name": "Vgg.ipynb",
      "provenance": [],
      "collapsed_sections": []
    },
    "kernelspec": {
      "name": "python3",
      "display_name": "Python 3"
    },
    "language_info": {
      "name": "python"
    }
  },
  "cells": [
    {
      "cell_type": "markdown",
      "source": [
        "\n",
        "# Downloading Dataset\n",
        "\n",
        "\n"
      ],
      "metadata": {
        "id": "TL4LcC09t1Cw"
      }
    },
    {
      "cell_type": "code",
      "execution_count": null,
      "metadata": {
        "id": "G6kfnZIrKyrU",
        "colab": {
          "base_uri": "https://localhost:8080/"
        },
        "outputId": "3ae4bcb2-e900-40ea-f0f8-119a03886fc4"
      },
      "outputs": [
        {
          "output_type": "stream",
          "name": "stdout",
          "text": [
            "mkdir: cannot create directory ‘/root/.kaggle/’: File exists\n"
          ]
        }
      ],
      "source": [
        "#This is for google colab\n",
        "from google.colab import files\n",
        "!pip install -q kaggle\n",
        "!mkdir ~/.kaggle/\n",
        "!cp kaggle.json ~/.kaggle/\n",
        "!chmod 600 ~/.kaggle/kaggle.json\n",
        "\n",
        "\n",
        "\n",
        "#This is for jupyter\n",
        "#import opendatasets as od\n",
        "#import tarfile\n",
        "  \n",
        "\n"
      ]
    },
    {
      "cell_type": "markdown",
      "source": [
        ""
      ],
      "metadata": {
        "id": "TuvypSo2cS9i"
      }
    },
    {
      "cell_type": "code",
      "source": [
        "#This if for google colba\n",
        "#!kaggle competitions download challenges-in-representation-learning-facial-expression-recognition-challenge -f fer2013.tar.gz\n",
        "\n",
        "\n",
        "#This is for jupyter\n",
        "#od.download(\"https://www.kaggle.com/c/challenges-in-representation-learning-facial-expression-recognition-challenge\")"
      ],
      "metadata": {
        "colab": {
          "base_uri": "https://localhost:8080/"
        },
        "id": "jwk-qgaELRZG",
        "outputId": "d8be492e-e198-4812-a957-07d311083116"
      },
      "execution_count": null,
      "outputs": [
        {
          "output_type": "stream",
          "name": "stdout",
          "text": [
            "Downloading fer2013.tar.gz to /content\n",
            " 99% 91.0M/92.0M [00:00<00:00, 212MB/s]\n",
            "100% 92.0M/92.0M [00:00<00:00, 189MB/s]\n"
          ]
        }
      ]
    },
    {
      "cell_type": "code",
      "source": [
        "#This is for google colab\n",
        "! tar -xvf fer2013.tar.gz\n",
        "\n",
        "\n",
        "#THis is for jupyter notebook\n",
        "#file = tarfile.open('challenges-in-representation-learning-facial-expression-recognition-challenge/fer2013.tar.gz')\n",
        "#file.extractall()\n",
        "#file.close()\n"
      ],
      "metadata": {
        "colab": {
          "base_uri": "https://localhost:8080/"
        },
        "id": "yPfQWyyqOLxG",
        "outputId": "dc5a88b2-486e-4016-bd2a-a025d83eb0ab"
      },
      "execution_count": null,
      "outputs": [
        {
          "output_type": "stream",
          "name": "stdout",
          "text": [
            "fer2013/fer2013.csv\n",
            "fer2013/README\n",
            "fer2013/fer2013.bib\n",
            "fer2013/\n"
          ]
        }
      ]
    },
    {
      "cell_type": "markdown",
      "source": [
        "#Vgg Model"
      ],
      "metadata": {
        "id": "tFR0PwHp1dGj"
      }
    },
    {
      "cell_type": "code",
      "source": [
        "\n",
        "from keras.layers import  Dense, Activation, Dropout, BatchNormalization, Flatten, Conv2D, AveragePooling2D, MaxPooling2D, GlobalMaxPooling2D\n",
        "from keras.models import Sequential\n",
        "from keras.backend import clear_session\n",
        "\n",
        "import matplotlib.pyplot as plt\n",
        "import seaborn as sns\n",
        "from keras.utils.np_utils import to_categorical\n",
        "%matplotlib inline\n",
        "\n",
        "\n",
        "\n",
        "import pandas as pd\n",
        "import numpy as np\n",
        "from keras.preprocessing.image import ImageDataGenerator\n",
        "from keras.callbacks import CSVLogger, ModelCheckpoint, EarlyStopping, TensorBoard\n",
        "from keras.callbacks import ReduceLROnPlateau"
      ],
      "metadata": {
        "id": "wLkgF3ckOsxo"
      },
      "execution_count": null,
      "outputs": []
    },
    {
      "cell_type": "markdown",
      "source": [
        "## Reading Data\n",
        "\n"
      ],
      "metadata": {
        "id": "7De5uw1TOxjC"
      }
    },
    {
      "cell_type": "code",
      "source": [
        "dataset_path = 'fer2013/fer2013.csv'\n"
      ],
      "metadata": {
        "id": "loH-7YxNOuNB"
      },
      "execution_count": null,
      "outputs": []
    },
    {
      "cell_type": "code",
      "source": [
        "def load_fer2013():\n",
        "  data = pd.read_csv(dataset_path)\n",
        "  #Separate data from dataset\n",
        "  groups = [g for _, g in data.groupby('Usage')]\n",
        "  train = groups[2]\n",
        "  val = groups[1]\n",
        "  test = groups[0]\n",
        "\n",
        "  ##Del Usage group and separate data\n",
        "\n",
        "  train = train.drop(labels=['Usage'], axis=1)\n",
        "  val = val.drop(labels=['Usage'], axis=1)\n",
        "  test = test.drop(labels=['Usage'], axis=1)\n",
        "\n",
        "  return train, val, test\n"
      ],
      "metadata": {
        "id": "oDJV8iIqO391"
      },
      "execution_count": null,
      "outputs": []
    },
    {
      "cell_type": "code",
      "source": [
        "train, val, test = load_fer2013()\n",
        "train.head()"
      ],
      "metadata": {
        "id": "ZhS9FkRGO8kR",
        "colab": {
          "base_uri": "https://localhost:8080/",
          "height": 206
        },
        "outputId": "9ed46f44-2280-4e79-9560-6e2ac58c1401"
      },
      "execution_count": null,
      "outputs": [
        {
          "output_type": "execute_result",
          "data": {
            "text/plain": [
              "   emotion                                             pixels\n",
              "0        0  70 80 82 72 58 58 60 63 54 58 60 48 89 115 121...\n",
              "1        0  151 150 147 155 148 133 111 140 170 174 182 15...\n",
              "2        2  231 212 156 164 174 138 161 173 182 200 106 38...\n",
              "3        4  24 32 36 30 32 23 19 20 30 41 21 22 32 34 21 1...\n",
              "4        6  4 0 0 0 0 0 0 0 0 0 0 0 3 15 23 28 48 50 58 84..."
            ],
            "text/html": [
              "\n",
              "  <div id=\"df-9fa37c88-d757-4af5-9526-4e2bf7912a06\">\n",
              "    <div class=\"colab-df-container\">\n",
              "      <div>\n",
              "<style scoped>\n",
              "    .dataframe tbody tr th:only-of-type {\n",
              "        vertical-align: middle;\n",
              "    }\n",
              "\n",
              "    .dataframe tbody tr th {\n",
              "        vertical-align: top;\n",
              "    }\n",
              "\n",
              "    .dataframe thead th {\n",
              "        text-align: right;\n",
              "    }\n",
              "</style>\n",
              "<table border=\"1\" class=\"dataframe\">\n",
              "  <thead>\n",
              "    <tr style=\"text-align: right;\">\n",
              "      <th></th>\n",
              "      <th>emotion</th>\n",
              "      <th>pixels</th>\n",
              "    </tr>\n",
              "  </thead>\n",
              "  <tbody>\n",
              "    <tr>\n",
              "      <th>0</th>\n",
              "      <td>0</td>\n",
              "      <td>70 80 82 72 58 58 60 63 54 58 60 48 89 115 121...</td>\n",
              "    </tr>\n",
              "    <tr>\n",
              "      <th>1</th>\n",
              "      <td>0</td>\n",
              "      <td>151 150 147 155 148 133 111 140 170 174 182 15...</td>\n",
              "    </tr>\n",
              "    <tr>\n",
              "      <th>2</th>\n",
              "      <td>2</td>\n",
              "      <td>231 212 156 164 174 138 161 173 182 200 106 38...</td>\n",
              "    </tr>\n",
              "    <tr>\n",
              "      <th>3</th>\n",
              "      <td>4</td>\n",
              "      <td>24 32 36 30 32 23 19 20 30 41 21 22 32 34 21 1...</td>\n",
              "    </tr>\n",
              "    <tr>\n",
              "      <th>4</th>\n",
              "      <td>6</td>\n",
              "      <td>4 0 0 0 0 0 0 0 0 0 0 0 3 15 23 28 48 50 58 84...</td>\n",
              "    </tr>\n",
              "  </tbody>\n",
              "</table>\n",
              "</div>\n",
              "      <button class=\"colab-df-convert\" onclick=\"convertToInteractive('df-9fa37c88-d757-4af5-9526-4e2bf7912a06')\"\n",
              "              title=\"Convert this dataframe to an interactive table.\"\n",
              "              style=\"display:none;\">\n",
              "        \n",
              "  <svg xmlns=\"http://www.w3.org/2000/svg\" height=\"24px\"viewBox=\"0 0 24 24\"\n",
              "       width=\"24px\">\n",
              "    <path d=\"M0 0h24v24H0V0z\" fill=\"none\"/>\n",
              "    <path d=\"M18.56 5.44l.94 2.06.94-2.06 2.06-.94-2.06-.94-.94-2.06-.94 2.06-2.06.94zm-11 1L8.5 8.5l.94-2.06 2.06-.94-2.06-.94L8.5 2.5l-.94 2.06-2.06.94zm10 10l.94 2.06.94-2.06 2.06-.94-2.06-.94-.94-2.06-.94 2.06-2.06.94z\"/><path d=\"M17.41 7.96l-1.37-1.37c-.4-.4-.92-.59-1.43-.59-.52 0-1.04.2-1.43.59L10.3 9.45l-7.72 7.72c-.78.78-.78 2.05 0 2.83L4 21.41c.39.39.9.59 1.41.59.51 0 1.02-.2 1.41-.59l7.78-7.78 2.81-2.81c.8-.78.8-2.07 0-2.86zM5.41 20L4 18.59l7.72-7.72 1.47 1.35L5.41 20z\"/>\n",
              "  </svg>\n",
              "      </button>\n",
              "      \n",
              "  <style>\n",
              "    .colab-df-container {\n",
              "      display:flex;\n",
              "      flex-wrap:wrap;\n",
              "      gap: 12px;\n",
              "    }\n",
              "\n",
              "    .colab-df-convert {\n",
              "      background-color: #E8F0FE;\n",
              "      border: none;\n",
              "      border-radius: 50%;\n",
              "      cursor: pointer;\n",
              "      display: none;\n",
              "      fill: #1967D2;\n",
              "      height: 32px;\n",
              "      padding: 0 0 0 0;\n",
              "      width: 32px;\n",
              "    }\n",
              "\n",
              "    .colab-df-convert:hover {\n",
              "      background-color: #E2EBFA;\n",
              "      box-shadow: 0px 1px 2px rgba(60, 64, 67, 0.3), 0px 1px 3px 1px rgba(60, 64, 67, 0.15);\n",
              "      fill: #174EA6;\n",
              "    }\n",
              "\n",
              "    [theme=dark] .colab-df-convert {\n",
              "      background-color: #3B4455;\n",
              "      fill: #D2E3FC;\n",
              "    }\n",
              "\n",
              "    [theme=dark] .colab-df-convert:hover {\n",
              "      background-color: #434B5C;\n",
              "      box-shadow: 0px 1px 3px 1px rgba(0, 0, 0, 0.15);\n",
              "      filter: drop-shadow(0px 1px 2px rgba(0, 0, 0, 0.3));\n",
              "      fill: #FFFFFF;\n",
              "    }\n",
              "  </style>\n",
              "\n",
              "      <script>\n",
              "        const buttonEl =\n",
              "          document.querySelector('#df-9fa37c88-d757-4af5-9526-4e2bf7912a06 button.colab-df-convert');\n",
              "        buttonEl.style.display =\n",
              "          google.colab.kernel.accessAllowed ? 'block' : 'none';\n",
              "\n",
              "        async function convertToInteractive(key) {\n",
              "          const element = document.querySelector('#df-9fa37c88-d757-4af5-9526-4e2bf7912a06');\n",
              "          const dataTable =\n",
              "            await google.colab.kernel.invokeFunction('convertToInteractive',\n",
              "                                                     [key], {});\n",
              "          if (!dataTable) return;\n",
              "\n",
              "          const docLinkHtml = 'Like what you see? Visit the ' +\n",
              "            '<a target=\"_blank\" href=https://colab.research.google.com/notebooks/data_table.ipynb>data table notebook</a>'\n",
              "            + ' to learn more about interactive tables.';\n",
              "          element.innerHTML = '';\n",
              "          dataTable['output_type'] = 'display_data';\n",
              "          await google.colab.output.renderOutput(dataTable, element);\n",
              "          const docLink = document.createElement('div');\n",
              "          docLink.innerHTML = docLinkHtml;\n",
              "          element.appendChild(docLink);\n",
              "        }\n",
              "      </script>\n",
              "    </div>\n",
              "  </div>\n",
              "  "
            ]
          },
          "metadata": {},
          "execution_count": 9
        }
      ]
    },
    {
      "cell_type": "code",
      "source": [
        "Y_train = train[\"emotion\"]\n",
        "Y_val = val[\"emotion\"]\n",
        "Y_test = test[\"emotion\"]\n",
        "#'Angry', 'Disgust', 'Fear', 'Happy', 'Sad', 'Surprise', 'Neutral'#\n",
        "\n",
        "X_train = train[\"pixels\"]\n",
        "X_val = val[\"pixels\"]\n",
        "X_test = test[\"pixels\"]"
      ],
      "metadata": {
        "id": "s0G7-r2bPBBa"
      },
      "execution_count": null,
      "outputs": []
    },
    {
      "cell_type": "code",
      "source": [
        "def preprocess(X):\n",
        "    X = np.array([np.fromstring(image, np.uint8, sep=' ') for image in X])\n",
        "    X = X/255.0\n",
        "    X = X.reshape(-1, 48, 48, 1)\n",
        "    return X"
      ],
      "metadata": {
        "id": "rE2K_WephEUo"
      },
      "execution_count": null,
      "outputs": []
    },
    {
      "cell_type": "code",
      "source": [
        "X_train = preprocess(X_train)\n",
        "X_val = preprocess(X_val)\n",
        "X_test = preprocess(X_test)"
      ],
      "metadata": {
        "id": "g-ssCjKnvZ3V"
      },
      "execution_count": null,
      "outputs": []
    },
    {
      "cell_type": "code",
      "source": [
        "plt.imshow(X_train[4][:,:,0])"
      ],
      "metadata": {
        "id": "TpMamAcqvdEv",
        "colab": {
          "base_uri": "https://localhost:8080/",
          "height": 283
        },
        "outputId": "b622eb1a-a15e-468e-8c0e-8d0315c479b7"
      },
      "execution_count": null,
      "outputs": [
        {
          "output_type": "execute_result",
          "data": {
            "text/plain": [
              "<matplotlib.image.AxesImage at 0x7f95b5f23ed0>"
            ]
          },
          "metadata": {},
          "execution_count": 13
        },
        {
          "output_type": "display_data",
          "data": {
            "text/plain": [
              "<Figure size 432x288 with 1 Axes>"
            ],
            "image/png": "[encoded data removed]"
          },
          "metadata": {
            "needs_background": "light"
          }
        }
      ]
    },
    {
      "cell_type": "code",
      "source": [
        "plt.figure(figsize=(30, 7))\n",
        "\n",
        "plt.subplot(1,3,1)\n",
        "ax = sns.countplot(Y_train)\n",
        "ax.set(ylabel=\"count\", xlabel=\"emotion\")\n",
        "plt.title(\"Counts per emotion in training set\")\n",
        "\n",
        "plt.subplot(1,3,2)\n",
        "ax = sns.countplot(Y_val)\n",
        "ax.set(ylabel=\"count\", xlabel=\"emotion\")\n",
        "plt.title(\"Counts per emotion in validation set\")\n",
        "\n",
        "plt.subplot(1,3,3)\n",
        "ax = sns.countplot(Y_test)\n",
        "ax.set(ylabel=\"count\", xlabel=\"emotion\")\n",
        "plt.title(\"Counts per emotion in testing set\")"
      ],
      "metadata": {
        "id": "NDa3oA7jvfwR",
        "colab": {
          "base_uri": "https://localhost:8080/",
          "height": 376
        },
        "outputId": "e78b5463-693f-45fb-82ae-54ecfcec9e3c"
      },
      "execution_count": null,
      "outputs": [
        {
          "output_type": "stream",
          "name": "stderr",
          "text": [
            "/usr/local/lib/python3.7/dist-packages/seaborn/_decorators.py:43: FutureWarning: Pass the following variable as a keyword arg: x. From version 0.12, the only valid positional argument will be `data`, and passing other arguments without an explicit keyword will result in an error or misinterpretation.\n",
            "  FutureWarning\n",
            "/usr/local/lib/python3.7/dist-packages/seaborn/_decorators.py:43: FutureWarning: Pass the following variable as a keyword arg: x. From version 0.12, the only valid positional argument will be `data`, and passing other arguments without an explicit keyword will result in an error or misinterpretation.\n",
            "  FutureWarning\n",
            "/usr/local/lib/python3.7/dist-packages/seaborn/_decorators.py:43: FutureWarning: Pass the following variable as a keyword arg: x. From version 0.12, the only valid positional argument will be `data`, and passing other arguments without an explicit keyword will result in an error or misinterpretation.\n",
            "  FutureWarning\n"
          ]
        },
        {
          "output_type": "execute_result",
          "data": {
            "text/plain": [
              "Text(0.5, 1.0, 'Counts per emotion in testing set')"
            ]
          },
          "metadata": {},
          "execution_count": 14
        },
        {
          "output_type": "display_data",
          "data": {
            "text/plain": [
              "<Figure size 2160x504 with 3 Axes>"
            ],
            "image/png": "[encoded data removed]"
          },
          "metadata": {
            "needs_background": "light"
          }
        }
      ]
    },
    {
      "cell_type": "code",
      "source": [
        "print(\"Is any label null in training set:\", Y_train.isnull().any())\n",
        "print(\"Is any label null in validation set:\", Y_val.isnull().any())\n",
        "print(\"Is any label null in testing set:\", Y_test.isnull().any())\n",
        "\n",
        "\n",
        "Y_train = to_categorical(Y_train, num_classes=7)\n",
        "Y_val = to_categorical(Y_val, num_classes=7)\n",
        "Y_test = to_categorical(Y_test, num_classes=7)"
      ],
      "metadata": {
        "id": "57e3eV_gviMp",
        "colab": {
          "base_uri": "https://localhost:8080/"
        },
        "outputId": "3f8a5bbf-48e3-452c-9139-e7211ada1f1f"
      },
      "execution_count": null,
      "outputs": [
        {
          "output_type": "stream",
          "name": "stdout",
          "text": [
            "Is any label null in training set: False\n",
            "Is any label null in validation set: False\n",
            "Is any label null in testing set: False\n"
          ]
        }
      ]
    },
    {
      "cell_type": "markdown",
      "source": [
        "## Data augumentation\n"
      ],
      "metadata": {
        "id": "wffLNj1CPEml"
      }
    },
    {
      "cell_type": "code",
      "source": [
        "#Data Augumentation\n",
        "data_generator = ImageDataGenerator(\n",
        "                        featurewise_center=False,\n",
        "                        featurewise_std_normalization=False,\n",
        "                        rotation_range=10,\n",
        "                        shear_range = 10,\n",
        "                        width_shift_range=0.1,\n",
        "                        height_shift_range=0.1,\n",
        "                        zoom_range=.1,\n",
        "                        horizontal_flip=True)"
      ],
      "metadata": {
        "id": "tctugGfVPGub"
      },
      "execution_count": null,
      "outputs": []
    },
    {
      "cell_type": "markdown",
      "source": [
        "## Model structure"
      ],
      "metadata": {
        "id": "LR7fnZ1oPQ3b"
      }
    },
    {
      "cell_type": "code",
      "source": [
        "def vgg(input_shape = (48,48,1), classes = 7):\n",
        "    clear_session()\n",
        "    model = Sequential()\n",
        "    input_shape = (48,48,1)\n",
        "    model.add(Conv2D(64, (3, 3), input_shape=input_shape,activation='relu', padding='same'))\n",
        "    model.add(Conv2D(64, (3, 3), activation='relu', padding='same'))\n",
        "    model.add(BatchNormalization())\n",
        "    model.add(MaxPooling2D((2, 2)))\n",
        "\n",
        "    model.add(Conv2D(128, (3, 3),activation='relu',padding='same'))\n",
        "    model.add(Conv2D(128, (3, 3),activation='relu',padding='same'))\n",
        "    model.add(BatchNormalization())\n",
        "    model.add(MaxPooling2D((2, 2)))\n",
        "\n",
        "    model.add(Conv2D(256, (3, 3),activation='relu',padding='same'))\n",
        "    model.add(Conv2D(256, (3, 3),activation='relu',padding='same'))\n",
        "    model.add(Conv2D(256, (3, 3),activation='relu',padding='same'))\n",
        "    model.add(BatchNormalization())\n",
        "    model.add(MaxPooling2D((2, 2)))\n",
        "\n",
        "    model.add(Conv2D(512, (3, 3),activation='relu',padding='same'))\n",
        "    model.add(Conv2D(512, (3, 3),activation='relu',padding='same'))\n",
        "    model.add(Conv2D(512, (3, 3),activation='relu',padding='same'))\n",
        "    model.add(BatchNormalization())\n",
        "    model.add(MaxPooling2D((2, 2)))\n",
        "\n",
        "    model.add(Conv2D(512, (3, 3),activation='relu',padding='same'))\n",
        "    model.add(Conv2D(512, (3, 3),activation='relu',padding='same'))\n",
        "    model.add(Conv2D(512, (3, 3),activation='relu',padding='same'))\n",
        "    model.add(BatchNormalization())\n",
        "    model.add(MaxPooling2D((2, 2)))\n",
        "\n",
        "    model.add(Flatten())\n",
        "    model.add(Dense(128))\n",
        "    model.add(BatchNormalization())\n",
        "    model.add(Activation('relu'))\n",
        "    model.add(Dropout(0.2))\n",
        "    model.add(Dense(classes))\n",
        "    model.add(Activation('softmax'))\n",
        "\n",
        "    model.compile(loss='categorical_crossentropy', metrics=['accuracy'],optimizer='adam')\n",
        "\n",
        "\n",
        "    model.summary()\n",
        "    return model\n"
      ],
      "metadata": {
        "id": "UFxy4gnQyTJx"
      },
      "execution_count": null,
      "outputs": []
    },
    {
      "cell_type": "markdown",
      "source": [
        "# Training"
      ],
      "metadata": {
        "id": "V-8emlVePXBZ"
      }
    },
    {
      "cell_type": "code",
      "source": [
        "\n",
        "patience = 25\n",
        "# callbacks\n",
        "log_file_path = 'model_vgg/_emotion_training.log'\n",
        "csv_logger = CSVLogger(log_file_path, append=False)\n",
        "early_stop = EarlyStopping('val_loss', patience=patience)\n",
        "tensorboard = TensorBoard(log_dir='./logs')\n",
        "reduce_lr = ReduceLROnPlateau('val_loss', factor=0.1, patience=int(patience/2), verbose=1)\n",
        "trained_models_path = 'model_vgg/_mini_XCEPTION'\n",
        "model_checkpoint = ModelCheckpoint(filepath=\"model_vgg/model_wiehgts.hdf5\", monitor='val_loss', verbose=1,save_best_only=True)\n",
        "callbacks = [model_checkpoint, csv_logger, early_stop, reduce_lr, tensorboard]"
      ],
      "metadata": {
        "id": "A97PPvg8PhX7"
      },
      "execution_count": null,
      "outputs": []
    },
    {
      "cell_type": "code",
      "source": [
        "from tensorflow.keras.optimizers import Adam, SGD\n",
        "model = vgg(input_shape = (48, 48, 1), classes = 7)\n",
        "optimizer = Adam(learning_rate=0.0005, beta_1=0.9, beta_2=0.999, epsilon=1e-7)\n",
        "model.compile(optimizer= optimizer, loss='categorical_crossentropy', metrics=['accuracy'])"
      ],
      "metadata": {
        "id": "Qm9jv63EPkCA",
        "colab": {
          "base_uri": "https://localhost:8080/"
        },
        "outputId": "c90a9152-2cea-482c-a052-a9170b9c9c53"
      },
      "execution_count": null,
      "outputs": [
        {
          "output_type": "stream",
          "name": "stdout",
          "text": [
            "Model: \"sequential\"\n",
            "_________________________________________________________________\n",
            " Layer (type)                Output Shape              Param #   \n",
            "=================================================================\n",
            " conv2d (Conv2D)             (None, 48, 48, 64)        640       \n",
            "                                                                 \n",
            " conv2d_1 (Conv2D)           (None, 48, 48, 64)        36928     \n",
            "                                                                 \n",
            " batch_normalization (BatchN  (None, 48, 48, 64)       256       \n",
            " ormalization)                                                   \n",
            "                                                                 \n",
            " max_pooling2d (MaxPooling2D  (None, 24, 24, 64)       0         \n",
            " )                                                               \n",
            "                                                                 \n",
            " conv2d_2 (Conv2D)           (None, 24, 24, 128)       73856     \n",
            "                                                                 \n",
            " conv2d_3 (Conv2D)           (None, 24, 24, 128)       147584    \n",
            "                                                                 \n",
            " batch_normalization_1 (Batc  (None, 24, 24, 128)      512       \n",
            " hNormalization)                                                 \n",
            "                                                                 \n",
            " max_pooling2d_1 (MaxPooling  (None, 12, 12, 128)      0         \n",
            " 2D)                                                             \n",
            "                                                                 \n",
            " conv2d_4 (Conv2D)           (None, 12, 12, 256)       295168    \n",
            "                                                                 \n",
            " conv2d_5 (Conv2D)           (None, 12, 12, 256)       590080    \n",
            "                                                                 \n",
            " conv2d_6 (Conv2D)           (None, 12, 12, 256)       590080    \n",
            "                                                                 \n",
            " batch_normalization_2 (Batc  (None, 12, 12, 256)      1024      \n",
            " hNormalization)                                                 \n",
            "                                                                 \n",
            " max_pooling2d_2 (MaxPooling  (None, 6, 6, 256)        0         \n",
            " 2D)                                                             \n",
            "                                                                 \n",
            " conv2d_7 (Conv2D)           (None, 6, 6, 512)         1180160   \n",
            "                                                                 \n",
            " conv2d_8 (Conv2D)           (None, 6, 6, 512)         2359808   \n",
            "                                                                 \n",
            " conv2d_9 (Conv2D)           (None, 6, 6, 512)         2359808   \n",
            "                                                                 \n",
            " batch_normalization_3 (Batc  (None, 6, 6, 512)        2048      \n",
            " hNormalization)                                                 \n",
            "                                                                 \n",
            " max_pooling2d_3 (MaxPooling  (None, 3, 3, 512)        0         \n",
            " 2D)                                                             \n",
            "                                                                 \n",
            " conv2d_10 (Conv2D)          (None, 3, 3, 512)         2359808   \n",
            "                                                                 \n",
            " conv2d_11 (Conv2D)          (None, 3, 3, 512)         2359808   \n",
            "                                                                 \n",
            " conv2d_12 (Conv2D)          (None, 3, 3, 512)         2359808   \n",
            "                                                                 \n",
            " batch_normalization_4 (Batc  (None, 3, 3, 512)        2048      \n",
            " hNormalization)                                                 \n",
            "                                                                 \n",
            " max_pooling2d_4 (MaxPooling  (None, 1, 1, 512)        0         \n",
            " 2D)                                                             \n",
            "                                                                 \n",
            " flatten (Flatten)           (None, 512)               0         \n",
            "                                                                 \n",
            " dense (Dense)               (None, 128)               65664     \n",
            "                                                                 \n",
            " batch_normalization_5 (Batc  (None, 128)              512       \n",
            " hNormalization)                                                 \n",
            "                                                                 \n",
            " activation (Activation)     (None, 128)               0         \n",
            "                                                                 \n",
            " dropout (Dropout)           (None, 128)               0         \n",
            "                                                                 \n",
            " dense_1 (Dense)             (None, 7)                 903       \n",
            "                                                                 \n",
            " activation_1 (Activation)   (None, 7)                 0         \n",
            "                                                                 \n",
            "=================================================================\n",
            "Total params: 14,786,503\n",
            "Trainable params: 14,783,303\n",
            "Non-trainable params: 3,200\n",
            "_________________________________________________________________\n"
          ]
        }
      ]
    },
    {
      "cell_type": "code",
      "source": [
        "history = model.fit(data_generator.flow(X_train, Y_train,),\n",
        "                        batch_size = 64,\n",
        "                        epochs=30, verbose=1, callbacks=callbacks,\n",
        "                        validation_data= (X_val,Y_val),\n",
        "                        shuffle = True)"
      ],
      "metadata": {
        "id": "-RjL4-P9PmS-",
        "colab": {
          "base_uri": "https://localhost:8080/"
        },
        "outputId": "cee847c6-4b96-4816-f517-8b80dd1c34c2"
      },
      "execution_count": null,
      "outputs": [
        {
          "output_type": "stream",
          "name": "stdout",
          "text": [
            "Epoch 1/30\n",
            "898/898 [==============================] - ETA: 0s - loss: 1.8709 - accuracy: 0.2361\n",
            "Epoch 1: val_loss improved from inf to 1.88854, saving model to model_vgg/model_wiehgts.hdf5\n",
            "898/898 [==============================] - 3402s 4s/step - loss: 1.8709 - accuracy: 0.2361 - val_loss: 1.8885 - val_accuracy: 0.2895 - lr: 5.0000e-04\n",
            "Epoch 2/30\n",
            "898/898 [==============================] - ETA: 0s - loss: 1.7385 - accuracy: 0.3013\n",
            "Epoch 2: val_loss did not improve from 1.88854\n",
            "898/898 [==============================] - 3412s 4s/step - loss: 1.7385 - accuracy: 0.3013 - val_loss: 2.4310 - val_accuracy: 0.2926 - lr: 5.0000e-04\n",
            "Epoch 3/30\n",
            "898/898 [==============================] - ETA: 0s - loss: 1.5011 - accuracy: 0.4125\n",
            "Epoch 3: val_loss improved from 1.88854 to 1.43735, saving model to model_vgg/model_wiehgts.hdf5\n",
            "898/898 [==============================] - 3430s 4s/step - loss: 1.5011 - accuracy: 0.4125 - val_loss: 1.4373 - val_accuracy: 0.4589 - lr: 5.0000e-04\n",
            "Epoch 4/30\n",
            "898/898 [==============================] - ETA: 0s - loss: 1.3396 - accuracy: 0.4878\n",
            "Epoch 4: val_loss improved from 1.43735 to 1.31318, saving model to model_vgg/model_wiehgts.hdf5\n",
            "898/898 [==============================] - 3446s 4s/step - loss: 1.3396 - accuracy: 0.4878 - val_loss: 1.3132 - val_accuracy: 0.5104 - lr: 5.0000e-04\n",
            "Epoch 5/30\n",
            "898/898 [==============================] - ETA: 0s - loss: 1.2467 - accuracy: 0.5306\n",
            "Epoch 5: val_loss improved from 1.31318 to 1.30057, saving model to model_vgg/model_wiehgts.hdf5\n",
            "898/898 [==============================] - 3384s 4s/step - loss: 1.2467 - accuracy: 0.5306 - val_loss: 1.3006 - val_accuracy: 0.5152 - lr: 5.0000e-04\n",
            "Epoch 6/30\n",
            "898/898 [==============================] - ETA: 0s - loss: 1.1920 - accuracy: 0.5551\n",
            "Epoch 6: val_loss improved from 1.30057 to 1.18369, saving model to model_vgg/model_wiehgts.hdf5\n",
            "898/898 [==============================] - 3428s 4s/step - loss: 1.1920 - accuracy: 0.5551 - val_loss: 1.1837 - val_accuracy: 0.5542 - lr: 5.0000e-04\n",
            "Epoch 7/30\n",
            "898/898 [==============================] - ETA: 0s - loss: 1.1416 - accuracy: 0.5685"
          ]
        }
      ]
    },
    {
      "cell_type": "markdown",
      "source": [
        "## Evaluate model"
      ],
      "metadata": {
        "id": "Cv9XokpXPrGN"
      }
    },
    {
      "cell_type": "code",
      "source": [
        "#import matplotlib.pyplot as plt\n",
        "#fig, ax = plt.subplots(2,1)\n",
        "#ax[0].plot(history.history['loss'], color='b', label=\"Training loss\")\n",
        "#ax[0].plot(history.history['val_loss'], color='r', label=\"validation loss\",axes =ax[0])\n",
        "#legend = ax[0].legend(loc='best', shadow=True)\n",
        "\n",
        "#ax[1].plot(history.history['accuracy'], color='b', label=\"Training accuracy\")\n",
        "#ax[1].plot(history.history['val_accuracy'], color='r',label=\"Validation accuracy\")\n",
        "#legend = ax[1].legend(loc='best', shadow=True)"
      ],
      "metadata": {
        "id": "94-QOfbmPolj"
      },
      "execution_count": null,
      "outputs": []
    },
    {
      "cell_type": "code",
      "source": [
        "#score, acc = model.evaluate(xtest, ytest, batch_size=32)\n",
        "#print('Test score:', score)\n",
        "#print(\"Test accuracy:\", acc)"
      ],
      "metadata": {
        "id": "--jb6JdjPvpT"
      },
      "execution_count": null,
      "outputs": []
    }
  ]
}