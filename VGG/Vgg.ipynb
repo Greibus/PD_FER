{
  "nbformat": 4,
  "nbformat_minor": 0,
  "metadata": {
    "colab": {
      "name": "Vgg.ipynb",
      "provenance": [],
      "collapsed_sections": [],
      "machine_shape": "hm"
    },
    "kernelspec": {
      "name": "python3",
      "display_name": "Python 3"
    },
    "language_info": {
      "name": "python"
    },
    "accelerator": "GPU"
  },
  "cells": [
    {
      "cell_type": "markdown",
      "source": [
        "\n",
        "# Downloading Dataset\n",
        "\n",
        "\n"
      ],
      "metadata": {
        "id": "TL4LcC09t1Cw"
      }
    },
    {
      "cell_type": "code",
      "source": [
        "!git clone https://github.com/Greibus/PD_FER.git"
      ],
      "metadata": {
        "colab": {
          "base_uri": "https://localhost:8080/"
        },
        "id": "aypv-oozhGNu",
        "outputId": "47268264-0cec-48be-9e97-961a0d784430"
      },
      "execution_count": null,
      "outputs": [
        {
          "output_type": "stream",
          "name": "stdout",
          "text": [
            "Cloning into 'PD_FER'...\n",
            "remote: Enumerating objects: 10, done.\u001b[K\n",
            "remote: Counting objects: 100% (10/10), done.\u001b[K\n",
            "remote: Compressing objects: 100% (6/6), done.\u001b[K\n",
            "remote: Total 10 (delta 1), reused 7 (delta 1), pack-reused 0\u001b[K\n",
            "Unpacking objects: 100% (10/10), done.\n"
          ]
        }
      ]
    },
    {
      "cell_type": "code",
      "execution_count": null,
      "metadata": {
        "id": "G6kfnZIrKyrU"
      },
      "outputs": [],
      "source": [
        "#This is for google colab\n",
        "from google.colab import files\n",
        "!pip install -q kaggle\n",
        "!mkdir ~/.kaggle/\n",
        "!cp PD_FER/kaggle.json ~/.kaggle/\n",
        "!chmod 600 ~/.kaggle/kaggle.json\n",
        "\n",
        "\n",
        "\n",
        "#This is for jupyter\n",
        "#import opendatasets as od\n",
        "#import tarfile\n",
        "  \n",
        "\n"
      ]
    },
    {
      "cell_type": "markdown",
      "source": [
        ""
      ],
      "metadata": {
        "id": "TuvypSo2cS9i"
      }
    },
    {
      "cell_type": "code",
      "source": [
        "#This if for google colba\n",
        "!kaggle competitions download challenges-in-representation-learning-facial-expression-recognition-challenge -f fer2013.tar.gz\n",
        "\n",
        "\n",
        "#This is for jupyter\n",
        "#od.download(\"https://www.kaggle.com/c/challenges-in-representation-learning-facial-expression-recognition-challenge\")"
      ],
      "metadata": {
        "colab": {
          "base_uri": "https://localhost:8080/"
        },
        "id": "jwk-qgaELRZG",
        "outputId": "c96e135a-48e8-40ad-f23e-9a65a939aeb9"
      },
      "execution_count": null,
      "outputs": [
        {
          "output_type": "stream",
          "name": "stdout",
          "text": [
            "Downloading fer2013.tar.gz to /content\n",
            " 97% 89.0M/92.0M [00:02<00:00, 46.8MB/s]\n",
            "100% 92.0M/92.0M [00:02<00:00, 39.0MB/s]\n"
          ]
        }
      ]
    },
    {
      "cell_type": "code",
      "source": [
        "#This is for google colab\n",
        "! tar -xvf fer2013.tar.gz\n",
        "\n",
        "\n",
        "#THis is for jupyter notebook\n",
        "#file = tarfile.open('challenges-in-representation-learning-facial-expression-recognition-challenge/fer2013.tar.gz')\n",
        "#file.extractall()\n",
        "#file.close()\n"
      ],
      "metadata": {
        "colab": {
          "base_uri": "https://localhost:8080/"
        },
        "id": "yPfQWyyqOLxG",
        "outputId": "e4d39f07-4198-42a7-e17c-63020d9c50c8"
      },
      "execution_count": null,
      "outputs": [
        {
          "output_type": "stream",
          "name": "stdout",
          "text": [
            "fer2013/fer2013.csv\n",
            "fer2013/README\n",
            "fer2013/fer2013.bib\n",
            "fer2013/\n"
          ]
        }
      ]
    },
    {
      "cell_type": "markdown",
      "source": [
        "#Vgg Model"
      ],
      "metadata": {
        "id": "tFR0PwHp1dGj"
      }
    },
    {
      "cell_type": "code",
      "source": [
        "\n",
        "from keras.layers import  Dense, Activation, Dropout, BatchNormalization, Flatten, Conv2D, AveragePooling2D, MaxPooling2D, GlobalMaxPooling2D\n",
        "from keras.models import Sequential\n",
        "from keras.backend import clear_session\n",
        "\n",
        "import matplotlib.pyplot as plt\n",
        "import seaborn as sns\n",
        "from keras.utils.np_utils import to_categorical\n",
        "%matplotlib inline\n",
        "from sklearn.metrics import confusion_matrix\n",
        "import itertools\n",
        "from keras.preprocessing import image\n",
        "\n",
        "\n",
        "import pandas as pd\n",
        "import numpy as np\n",
        "from keras.preprocessing.image import ImageDataGenerator\n",
        "from keras.callbacks import CSVLogger, ModelCheckpoint, EarlyStopping, TensorBoard\n",
        "from keras.callbacks import ReduceLROnPlateau"
      ],
      "metadata": {
        "id": "wLkgF3ckOsxo"
      },
      "execution_count": 34,
      "outputs": []
    },
    {
      "cell_type": "markdown",
      "source": [
        "## Reading Data\n",
        "\n"
      ],
      "metadata": {
        "id": "7De5uw1TOxjC"
      }
    },
    {
      "cell_type": "code",
      "source": [
        "dataset_path = 'fer2013/fer2013.csv'\n"
      ],
      "metadata": {
        "id": "loH-7YxNOuNB"
      },
      "execution_count": null,
      "outputs": []
    },
    {
      "cell_type": "code",
      "source": [
        "def load_fer2013():\n",
        "  data = pd.read_csv(dataset_path)\n",
        "  #Separate data from dataset\n",
        "  groups = [g for _, g in data.groupby('Usage')]\n",
        "  train = groups[2]\n",
        "  val = groups[1]\n",
        "  test = groups[0]\n",
        "\n",
        "  ##Del Usage group and separate data\n",
        "\n",
        "  train = train.drop(labels=['Usage'], axis=1)\n",
        "  val = val.drop(labels=['Usage'], axis=1)\n",
        "  test = test.drop(labels=['Usage'], axis=1)\n",
        "\n",
        "  return train, val, test\n"
      ],
      "metadata": {
        "id": "oDJV8iIqO391"
      },
      "execution_count": null,
      "outputs": []
    },
    {
      "cell_type": "code",
      "source": [
        "train, val, test = load_fer2013()\n",
        "train.head()"
      ],
      "metadata": {
        "id": "ZhS9FkRGO8kR",
        "colab": {
          "base_uri": "https://localhost:8080/",
          "height": 206
        },
        "outputId": "518c932d-b88d-40db-c520-ef7fe1eb6040"
      },
      "execution_count": null,
      "outputs": [
        {
          "output_type": "execute_result",
          "data": {
            "text/plain": [
              "   emotion                                             pixels\n",
              "0        0  70 80 82 72 58 58 60 63 54 58 60 48 89 115 121...\n",
              "1        0  151 150 147 155 148 133 111 140 170 174 182 15...\n",
              "2        2  231 212 156 164 174 138 161 173 182 200 106 38...\n",
              "3        4  24 32 36 30 32 23 19 20 30 41 21 22 32 34 21 1...\n",
              "4        6  4 0 0 0 0 0 0 0 0 0 0 0 3 15 23 28 48 50 58 84..."
            ],
            "text/html": [
              "\n",
              "  <div id=\"df-80970ee6-1358-42ef-ada0-63145d2bb8b5\">\n",
              "    <div class=\"colab-df-container\">\n",
              "      <div>\n",
              "<style scoped>\n",
              "    .dataframe tbody tr th:only-of-type {\n",
              "        vertical-align: middle;\n",
              "    }\n",
              "\n",
              "    .dataframe tbody tr th {\n",
              "        vertical-align: top;\n",
              "    }\n",
              "\n",
              "    .dataframe thead th {\n",
              "        text-align: right;\n",
              "    }\n",
              "</style>\n",
              "<table border=\"1\" class=\"dataframe\">\n",
              "  <thead>\n",
              "    <tr style=\"text-align: right;\">\n",
              "      <th></th>\n",
              "      <th>emotion</th>\n",
              "      <th>pixels</th>\n",
              "    </tr>\n",
              "  </thead>\n",
              "  <tbody>\n",
              "    <tr>\n",
              "      <th>0</th>\n",
              "      <td>0</td>\n",
              "      <td>70 80 82 72 58 58 60 63 54 58 60 48 89 115 121...</td>\n",
              "    </tr>\n",
              "    <tr>\n",
              "      <th>1</th>\n",
              "      <td>0</td>\n",
              "      <td>151 150 147 155 148 133 111 140 170 174 182 15...</td>\n",
              "    </tr>\n",
              "    <tr>\n",
              "      <th>2</th>\n",
              "      <td>2</td>\n",
              "      <td>231 212 156 164 174 138 161 173 182 200 106 38...</td>\n",
              "    </tr>\n",
              "    <tr>\n",
              "      <th>3</th>\n",
              "      <td>4</td>\n",
              "      <td>24 32 36 30 32 23 19 20 30 41 21 22 32 34 21 1...</td>\n",
              "    </tr>\n",
              "    <tr>\n",
              "      <th>4</th>\n",
              "      <td>6</td>\n",
              "      <td>4 0 0 0 0 0 0 0 0 0 0 0 3 15 23 28 48 50 58 84...</td>\n",
              "    </tr>\n",
              "  </tbody>\n",
              "</table>\n",
              "</div>\n",
              "      <button class=\"colab-df-convert\" onclick=\"convertToInteractive('df-80970ee6-1358-42ef-ada0-63145d2bb8b5')\"\n",
              "              title=\"Convert this dataframe to an interactive table.\"\n",
              "              style=\"display:none;\">\n",
              "        \n",
              "  <svg xmlns=\"http://www.w3.org/2000/svg\" height=\"24px\"viewBox=\"0 0 24 24\"\n",
              "       width=\"24px\">\n",
              "    <path d=\"M0 0h24v24H0V0z\" fill=\"none\"/>\n",
              "    <path d=\"M18.56 5.44l.94 2.06.94-2.06 2.06-.94-2.06-.94-.94-2.06-.94 2.06-2.06.94zm-11 1L8.5 8.5l.94-2.06 2.06-.94-2.06-.94L8.5 2.5l-.94 2.06-2.06.94zm10 10l.94 2.06.94-2.06 2.06-.94-2.06-.94-.94-2.06-.94 2.06-2.06.94z\"/><path d=\"M17.41 7.96l-1.37-1.37c-.4-.4-.92-.59-1.43-.59-.52 0-1.04.2-1.43.59L10.3 9.45l-7.72 7.72c-.78.78-.78 2.05 0 2.83L4 21.41c.39.39.9.59 1.41.59.51 0 1.02-.2 1.41-.59l7.78-7.78 2.81-2.81c.8-.78.8-2.07 0-2.86zM5.41 20L4 18.59l7.72-7.72 1.47 1.35L5.41 20z\"/>\n",
              "  </svg>\n",
              "      </button>\n",
              "      \n",
              "  <style>\n",
              "    .colab-df-container {\n",
              "      display:flex;\n",
              "      flex-wrap:wrap;\n",
              "      gap: 12px;\n",
              "    }\n",
              "\n",
              "    .colab-df-convert {\n",
              "      background-color: #E8F0FE;\n",
              "      border: none;\n",
              "      border-radius: 50%;\n",
              "      cursor: pointer;\n",
              "      display: none;\n",
              "      fill: #1967D2;\n",
              "      height: 32px;\n",
              "      padding: 0 0 0 0;\n",
              "      width: 32px;\n",
              "    }\n",
              "\n",
              "    .colab-df-convert:hover {\n",
              "      background-color: #E2EBFA;\n",
              "      box-shadow: 0px 1px 2px rgba(60, 64, 67, 0.3), 0px 1px 3px 1px rgba(60, 64, 67, 0.15);\n",
              "      fill: #174EA6;\n",
              "    }\n",
              "\n",
              "    [theme=dark] .colab-df-convert {\n",
              "      background-color: #3B4455;\n",
              "      fill: #D2E3FC;\n",
              "    }\n",
              "\n",
              "    [theme=dark] .colab-df-convert:hover {\n",
              "      background-color: #434B5C;\n",
              "      box-shadow: 0px 1px 3px 1px rgba(0, 0, 0, 0.15);\n",
              "      filter: drop-shadow(0px 1px 2px rgba(0, 0, 0, 0.3));\n",
              "      fill: #FFFFFF;\n",
              "    }\n",
              "  </style>\n",
              "\n",
              "      <script>\n",
              "        const buttonEl =\n",
              "          document.querySelector('#df-80970ee6-1358-42ef-ada0-63145d2bb8b5 button.colab-df-convert');\n",
              "        buttonEl.style.display =\n",
              "          google.colab.kernel.accessAllowed ? 'block' : 'none';\n",
              "\n",
              "        async function convertToInteractive(key) {\n",
              "          const element = document.querySelector('#df-80970ee6-1358-42ef-ada0-63145d2bb8b5');\n",
              "          const dataTable =\n",
              "            await google.colab.kernel.invokeFunction('convertToInteractive',\n",
              "                                                     [key], {});\n",
              "          if (!dataTable) return;\n",
              "\n",
              "          const docLinkHtml = 'Like what you see? Visit the ' +\n",
              "            '<a target=\"_blank\" href=https://colab.research.google.com/notebooks/data_table.ipynb>data table notebook</a>'\n",
              "            + ' to learn more about interactive tables.';\n",
              "          element.innerHTML = '';\n",
              "          dataTable['output_type'] = 'display_data';\n",
              "          await google.colab.output.renderOutput(dataTable, element);\n",
              "          const docLink = document.createElement('div');\n",
              "          docLink.innerHTML = docLinkHtml;\n",
              "          element.appendChild(docLink);\n",
              "        }\n",
              "      </script>\n",
              "    </div>\n",
              "  </div>\n",
              "  "
            ]
          },
          "metadata": {},
          "execution_count": 13
        }
      ]
    },
    {
      "cell_type": "code",
      "source": [
        "Y_train = train[\"emotion\"]\n",
        "Y_val = val[\"emotion\"]\n",
        "Y_test = test[\"emotion\"]\n",
        "#'Angry', 'Disgust', 'Fear', 'Happy', 'Sad', 'Surprise', 'Neutral'#\n",
        "\n",
        "X_train = train[\"pixels\"]\n",
        "X_val = val[\"pixels\"]\n",
        "X_test = test[\"pixels\"]"
      ],
      "metadata": {
        "id": "s0G7-r2bPBBa"
      },
      "execution_count": null,
      "outputs": []
    },
    {
      "cell_type": "code",
      "source": [
        "def preprocess(X):\n",
        "    X = np.array([np.fromstring(image, np.uint8, sep=' ') for image in X])\n",
        "    X = X/255.0\n",
        "    X = X.reshape(-1, 48, 48, 1)\n",
        "    return X"
      ],
      "metadata": {
        "id": "rE2K_WephEUo"
      },
      "execution_count": null,
      "outputs": []
    },
    {
      "cell_type": "code",
      "source": [
        "X_train = preprocess(X_train)\n",
        "X_val = preprocess(X_val)\n",
        "X_test = preprocess(X_test)"
      ],
      "metadata": {
        "id": "g-ssCjKnvZ3V"
      },
      "execution_count": null,
      "outputs": []
    },
    {
      "cell_type": "code",
      "source": [
        "plt.imshow(X_train[4][:,:,0])"
      ],
      "metadata": {
        "id": "TpMamAcqvdEv",
        "colab": {
          "base_uri": "https://localhost:8080/",
          "height": 284
        },
        "outputId": "ed759292-1ef1-4aee-d8c1-09157dc4a40e"
      },
      "execution_count": null,
      "outputs": [
        {
          "output_type": "execute_result",
          "data": {
            "text/plain": [
              "<matplotlib.image.AxesImage at 0x7f4a75b01790>"
            ]
          },
          "metadata": {},
          "execution_count": 17
        },
        {
          "output_type": "display_data",
          "data": {
            "text/plain": [
              "<Figure size 432x288 with 1 Axes>"
            ],
            "image/png": "[encoded data removed]"
          },
          "metadata": {
            "needs_background": "light"
          }
        }
      ]
    },
    {
      "cell_type": "code",
      "source": [
        "plt.imsave('test.png',X_train[4][:,:,0] )"
      ],
      "metadata": {
        "id": "bGCvzh4Yy4lD"
      },
      "execution_count": null,
      "outputs": []
    },
    {
      "cell_type": "code",
      "source": [
        "plt.figure(figsize=(30, 7))\n",
        "\n",
        "plt.subplot(1,3,1)\n",
        "ax = sns.countplot(Y_train)\n",
        "ax.set(ylabel=\"count\", xlabel=\"emotion\")\n",
        "plt.title(\"Counts per emotion in training set\")\n",
        "\n",
        "plt.subplot(1,3,2)\n",
        "ax = sns.countplot(Y_val)\n",
        "ax.set(ylabel=\"count\", xlabel=\"emotion\")\n",
        "plt.title(\"Counts per emotion in validation set\")\n",
        "\n",
        "plt.subplot(1,3,3)\n",
        "ax = sns.countplot(Y_test)\n",
        "ax.set(ylabel=\"count\", xlabel=\"emotion\")\n",
        "plt.title(\"Counts per emotion in testing set\")"
      ],
      "metadata": {
        "id": "NDa3oA7jvfwR",
        "colab": {
          "base_uri": "https://localhost:8080/",
          "height": 350
        },
        "outputId": "54b913b0-0bbb-4491-cc66-d7ca626f734b"
      },
      "execution_count": null,
      "outputs": [
        {
          "output_type": "stream",
          "name": "stderr",
          "text": [
            "/usr/local/lib/python3.7/dist-packages/seaborn/_decorators.py:43: FutureWarning: Pass the following variable as a keyword arg: x. From version 0.12, the only valid positional argument will be `data`, and passing other arguments without an explicit keyword will result in an error or misinterpretation.\n",
            "  FutureWarning\n",
            "/usr/local/lib/python3.7/dist-packages/seaborn/_decorators.py:43: FutureWarning: Pass the following variable as a keyword arg: x. From version 0.12, the only valid positional argument will be `data`, and passing other arguments without an explicit keyword will result in an error or misinterpretation.\n",
            "  FutureWarning\n",
            "/usr/local/lib/python3.7/dist-packages/seaborn/_decorators.py:43: FutureWarning: Pass the following variable as a keyword arg: x. From version 0.12, the only valid positional argument will be `data`, and passing other arguments without an explicit keyword will result in an error or misinterpretation.\n",
            "  FutureWarning\n"
          ]
        },
        {
          "output_type": "execute_result",
          "data": {
            "text/plain": [
              "Text(0.5, 1.0, 'Counts per emotion in testing set')"
            ]
          },
          "metadata": {},
          "execution_count": 18
        },
        {
          "output_type": "display_data",
          "data": {
            "text/plain": [
              "<Figure size 2160x504 with 3 Axes>"
            ],
            "image/png": "[encoded data removed]"
          },
          "metadata": {
            "needs_background": "light"
          }
        }
      ]
    },
    {
      "cell_type": "code",
      "source": [
        "print(\"Is any label null in training set:\", Y_train.isnull().any())\n",
        "print(\"Is any label null in validation set:\", Y_val.isnull().any())\n",
        "print(\"Is any label null in testing set:\", Y_test.isnull().any())\n",
        "\n",
        "\n",
        "Y_train = to_categorical(Y_train, num_classes=7)\n",
        "Y_val = to_categorical(Y_val, num_classes=7)\n",
        "Y_test = to_categorical(Y_test, num_classes=7)"
      ],
      "metadata": {
        "id": "57e3eV_gviMp",
        "colab": {
          "base_uri": "https://localhost:8080/"
        },
        "outputId": "ded3ee14-b7be-4d38-dd9a-c698f6cfe6c1"
      },
      "execution_count": null,
      "outputs": [
        {
          "output_type": "stream",
          "name": "stdout",
          "text": [
            "Is any label null in training set: False\n",
            "Is any label null in validation set: False\n",
            "Is any label null in testing set: False\n"
          ]
        }
      ]
    },
    {
      "cell_type": "markdown",
      "source": [
        "## Data augumentation\n"
      ],
      "metadata": {
        "id": "wffLNj1CPEml"
      }
    },
    {
      "cell_type": "code",
      "source": [
        "#Data Augumentation\n",
        "data_generator = ImageDataGenerator(\n",
        "                        featurewise_center=False,\n",
        "                        featurewise_std_normalization=False,\n",
        "                        rotation_range=10,\n",
        "                        shear_range = 10,\n",
        "                        width_shift_range=0.1,\n",
        "                        height_shift_range=0.1,\n",
        "                        zoom_range=.1,\n",
        "                        horizontal_flip=True)"
      ],
      "metadata": {
        "id": "tctugGfVPGub"
      },
      "execution_count": null,
      "outputs": []
    },
    {
      "cell_type": "markdown",
      "source": [
        "## Model structure"
      ],
      "metadata": {
        "id": "LR7fnZ1oPQ3b"
      }
    },
    {
      "cell_type": "code",
      "source": [
        "def vgg(input_shape = (48,48,1), classes = 7):\n",
        "    clear_session()\n",
        "    model = Sequential()\n",
        "    input_shape = (48,48,1)\n",
        "    model.add(Conv2D(64, (3, 3), input_shape=input_shape,activation='relu', padding='same'))\n",
        "    model.add(Conv2D(64, (3, 3), activation='relu', padding='same'))\n",
        "    model.add(BatchNormalization())\n",
        "    model.add(MaxPooling2D((2, 2)))\n",
        "\n",
        "    model.add(Conv2D(128, (3, 3),activation='relu',padding='same'))\n",
        "    model.add(Conv2D(128, (3, 3),activation='relu',padding='same'))\n",
        "    model.add(BatchNormalization())\n",
        "    model.add(MaxPooling2D((2, 2)))\n",
        "\n",
        "    model.add(Conv2D(256, (3, 3),activation='relu',padding='same'))\n",
        "    model.add(Conv2D(256, (3, 3),activation='relu',padding='same'))\n",
        "    model.add(Conv2D(256, (3, 3),activation='relu',padding='same'))\n",
        "    model.add(BatchNormalization())\n",
        "    model.add(MaxPooling2D((2, 2)))\n",
        "\n",
        "    model.add(Conv2D(512, (3, 3),activation='relu',padding='same'))\n",
        "    model.add(Conv2D(512, (3, 3),activation='relu',padding='same'))\n",
        "    model.add(Conv2D(512, (3, 3),activation='relu',padding='same'))\n",
        "    model.add(BatchNormalization())\n",
        "    model.add(MaxPooling2D((2, 2)))\n",
        "\n",
        "    model.add(Conv2D(512, (3, 3),activation='relu',padding='same'))\n",
        "    model.add(Conv2D(512, (3, 3),activation='relu',padding='same'))\n",
        "    model.add(Conv2D(512, (3, 3),activation='relu',padding='same'))\n",
        "    model.add(BatchNormalization())\n",
        "    model.add(MaxPooling2D((2, 2)))\n",
        "\n",
        "    model.add(Flatten())\n",
        "    model.add(Dense(128))\n",
        "    model.add(BatchNormalization())\n",
        "    model.add(Activation('relu'))\n",
        "    model.add(Dropout(0.2))\n",
        "    model.add(Dense(classes))\n",
        "    model.add(Activation('softmax'))\n",
        "\n",
        "    model.compile(loss='categorical_crossentropy', metrics=['accuracy'],optimizer='adam')\n",
        "\n",
        "\n",
        "    model.summary()\n",
        "    return model\n"
      ],
      "metadata": {
        "id": "UFxy4gnQyTJx"
      },
      "execution_count": null,
      "outputs": []
    },
    {
      "cell_type": "markdown",
      "source": [
        "# Training"
      ],
      "metadata": {
        "id": "V-8emlVePXBZ"
      }
    },
    {
      "cell_type": "code",
      "source": [
        "\n",
        "patience = 25\n",
        "# callbacks\n",
        "log_file_path = 'model_vgg/_emotion_training.log'\n",
        "csv_logger = CSVLogger(log_file_path, append=False)\n",
        "early_stop = EarlyStopping('val_loss', patience=patience)\n",
        "tensorboard = TensorBoard(log_dir='./logs')\n",
        "reduce_lr = ReduceLROnPlateau('val_loss', factor=0.1, patience=int(patience/2), verbose=1)\n",
        "trained_models_path = 'model_vgg/_mini_XCEPTION'\n",
        "model_checkpoint = ModelCheckpoint(filepath=\"model_vgg/model_wiehgts.hdf5\", monitor='val_loss', verbose=1,save_best_only=True)\n",
        "callbacks = [model_checkpoint, csv_logger, early_stop, reduce_lr, tensorboard]"
      ],
      "metadata": {
        "id": "A97PPvg8PhX7"
      },
      "execution_count": null,
      "outputs": []
    },
    {
      "cell_type": "code",
      "source": [
        "from tensorflow.keras.optimizers import Adam, SGD\n",
        "model = vgg(input_shape = (48, 48, 1), classes = 7)\n",
        "optimizer = Adam(learning_rate=0.0005, beta_1=0.9, beta_2=0.999, epsilon=1e-7)\n",
        "model.compile(optimizer= optimizer, loss='categorical_crossentropy', metrics=['accuracy'])"
      ],
      "metadata": {
        "id": "Qm9jv63EPkCA",
        "colab": {
          "base_uri": "https://localhost:8080/"
        },
        "outputId": "cf4ed9b5-711d-4474-f63d-3bec6c039028"
      },
      "execution_count": null,
      "outputs": [
        {
          "output_type": "stream",
          "name": "stdout",
          "text": [
            "Model: \"sequential\"\n",
            "_________________________________________________________________\n",
            " Layer (type)                Output Shape              Param #   \n",
            "=================================================================\n",
            " conv2d (Conv2D)             (None, 48, 48, 64)        640       \n",
            "                                                                 \n",
            " conv2d_1 (Conv2D)           (None, 48, 48, 64)        36928     \n",
            "                                                                 \n",
            " batch_normalization (BatchN  (None, 48, 48, 64)       256       \n",
            " ormalization)                                                   \n",
            "                                                                 \n",
            " max_pooling2d (MaxPooling2D  (None, 24, 24, 64)       0         \n",
            " )                                                               \n",
            "                                                                 \n",
            " conv2d_2 (Conv2D)           (None, 24, 24, 128)       73856     \n",
            "                                                                 \n",
            " conv2d_3 (Conv2D)           (None, 24, 24, 128)       147584    \n",
            "                                                                 \n",
            " batch_normalization_1 (Batc  (None, 24, 24, 128)      512       \n",
            " hNormalization)                                                 \n",
            "                                                                 \n",
            " max_pooling2d_1 (MaxPooling  (None, 12, 12, 128)      0         \n",
            " 2D)                                                             \n",
            "                                                                 \n",
            " conv2d_4 (Conv2D)           (None, 12, 12, 256)       295168    \n",
            "                                                                 \n",
            " conv2d_5 (Conv2D)           (None, 12, 12, 256)       590080    \n",
            "                                                                 \n",
            " conv2d_6 (Conv2D)           (None, 12, 12, 256)       590080    \n",
            "                                                                 \n",
            " batch_normalization_2 (Batc  (None, 12, 12, 256)      1024      \n",
            " hNormalization)                                                 \n",
            "                                                                 \n",
            " max_pooling2d_2 (MaxPooling  (None, 6, 6, 256)        0         \n",
            " 2D)                                                             \n",
            "                                                                 \n",
            " conv2d_7 (Conv2D)           (None, 6, 6, 512)         1180160   \n",
            "                                                                 \n",
            " conv2d_8 (Conv2D)           (None, 6, 6, 512)         2359808   \n",
            "                                                                 \n",
            " conv2d_9 (Conv2D)           (None, 6, 6, 512)         2359808   \n",
            "                                                                 \n",
            " batch_normalization_3 (Batc  (None, 6, 6, 512)        2048      \n",
            " hNormalization)                                                 \n",
            "                                                                 \n",
            " max_pooling2d_3 (MaxPooling  (None, 3, 3, 512)        0         \n",
            " 2D)                                                             \n",
            "                                                                 \n",
            " conv2d_10 (Conv2D)          (None, 3, 3, 512)         2359808   \n",
            "                                                                 \n",
            " conv2d_11 (Conv2D)          (None, 3, 3, 512)         2359808   \n",
            "                                                                 \n",
            " conv2d_12 (Conv2D)          (None, 3, 3, 512)         2359808   \n",
            "                                                                 \n",
            " batch_normalization_4 (Batc  (None, 3, 3, 512)        2048      \n",
            " hNormalization)                                                 \n",
            "                                                                 \n",
            " max_pooling2d_4 (MaxPooling  (None, 1, 1, 512)        0         \n",
            " 2D)                                                             \n",
            "                                                                 \n",
            " flatten (Flatten)           (None, 512)               0         \n",
            "                                                                 \n",
            " dense (Dense)               (None, 128)               65664     \n",
            "                                                                 \n",
            " batch_normalization_5 (Batc  (None, 128)              512       \n",
            " hNormalization)                                                 \n",
            "                                                                 \n",
            " activation (Activation)     (None, 128)               0         \n",
            "                                                                 \n",
            " dropout (Dropout)           (None, 128)               0         \n",
            "                                                                 \n",
            " dense_1 (Dense)             (None, 7)                 903       \n",
            "                                                                 \n",
            " activation_1 (Activation)   (None, 7)                 0         \n",
            "                                                                 \n",
            "=================================================================\n",
            "Total params: 14,786,503\n",
            "Trainable params: 14,783,303\n",
            "Non-trainable params: 3,200\n",
            "_________________________________________________________________\n"
          ]
        }
      ]
    },
    {
      "cell_type": "code",
      "source": [
        "history = model.fit(data_generator.flow(X_train, Y_train,),\n",
        "                        batch_size = 64,\n",
        "                        epochs=50, verbose=1, callbacks=callbacks,\n",
        "                        validation_data= (X_val,Y_val),\n",
        "                        shuffle = True)"
      ],
      "metadata": {
        "id": "-RjL4-P9PmS-",
        "colab": {
          "base_uri": "https://localhost:8080/"
        },
        "outputId": "2f164fd7-d40a-47f8-8bf6-5d0dd44b6400"
      },
      "execution_count": null,
      "outputs": [
        {
          "output_type": "stream",
          "name": "stdout",
          "text": [
            "Epoch 1/50\n",
            "898/898 [==============================] - ETA: 0s - loss: 1.8642 - accuracy: 0.2304\n",
            "Epoch 1: val_loss improved from inf to 1.91898, saving model to model_vgg/model_wiehgts.hdf5\n",
            "898/898 [==============================] - 51s 42ms/step - loss: 1.8642 - accuracy: 0.2304 - val_loss: 1.9190 - val_accuracy: 0.2499 - lr: 5.0000e-04\n",
            "Epoch 2/50\n",
            "897/898 [============================>.] - ETA: 0s - loss: 1.6701 - accuracy: 0.3352\n",
            "Epoch 2: val_loss improved from 1.91898 to 1.53933, saving model to model_vgg/model_wiehgts.hdf5\n",
            "898/898 [==============================] - 37s 41ms/step - loss: 1.6701 - accuracy: 0.3351 - val_loss: 1.5393 - val_accuracy: 0.3909 - lr: 5.0000e-04\n",
            "Epoch 3/50\n",
            "897/898 [============================>.] - ETA: 0s - loss: 1.4400 - accuracy: 0.4444\n",
            "Epoch 3: val_loss improved from 1.53933 to 1.41369, saving model to model_vgg/model_wiehgts.hdf5\n",
            "898/898 [==============================] - 38s 42ms/step - loss: 1.4400 - accuracy: 0.4444 - val_loss: 1.4137 - val_accuracy: 0.4422 - lr: 5.0000e-04\n",
            "Epoch 4/50\n",
            "897/898 [============================>.] - ETA: 0s - loss: 1.3223 - accuracy: 0.4932\n",
            "Epoch 4: val_loss improved from 1.41369 to 1.30392, saving model to model_vgg/model_wiehgts.hdf5\n",
            "898/898 [==============================] - 38s 43ms/step - loss: 1.3223 - accuracy: 0.4931 - val_loss: 1.3039 - val_accuracy: 0.4904 - lr: 5.0000e-04\n",
            "Epoch 5/50\n",
            "897/898 [============================>.] - ETA: 0s - loss: 1.2466 - accuracy: 0.5281\n",
            "Epoch 5: val_loss improved from 1.30392 to 1.22992, saving model to model_vgg/model_wiehgts.hdf5\n",
            "898/898 [==============================] - 39s 43ms/step - loss: 1.2465 - accuracy: 0.5281 - val_loss: 1.2299 - val_accuracy: 0.5350 - lr: 5.0000e-04\n",
            "Epoch 6/50\n",
            "897/898 [============================>.] - ETA: 0s - loss: 1.1893 - accuracy: 0.5526\n",
            "Epoch 6: val_loss improved from 1.22992 to 1.20468, saving model to model_vgg/model_wiehgts.hdf5\n",
            "898/898 [==============================] - 38s 43ms/step - loss: 1.1895 - accuracy: 0.5524 - val_loss: 1.2047 - val_accuracy: 0.5514 - lr: 5.0000e-04\n",
            "Epoch 7/50\n",
            "897/898 [============================>.] - ETA: 0s - loss: 1.1428 - accuracy: 0.5721\n",
            "Epoch 7: val_loss improved from 1.20468 to 1.18254, saving model to model_vgg/model_wiehgts.hdf5\n",
            "898/898 [==============================] - 39s 43ms/step - loss: 1.1428 - accuracy: 0.5721 - val_loss: 1.1825 - val_accuracy: 0.5553 - lr: 5.0000e-04\n",
            "Epoch 8/50\n",
            "897/898 [============================>.] - ETA: 0s - loss: 1.1009 - accuracy: 0.5877\n",
            "Epoch 8: val_loss did not improve from 1.18254\n",
            "898/898 [==============================] - 38s 42ms/step - loss: 1.1013 - accuracy: 0.5877 - val_loss: 1.1894 - val_accuracy: 0.5492 - lr: 5.0000e-04\n",
            "Epoch 9/50\n",
            "897/898 [============================>.] - ETA: 0s - loss: 1.0717 - accuracy: 0.6021\n",
            "Epoch 9: val_loss improved from 1.18254 to 1.13804, saving model to model_vgg/model_wiehgts.hdf5\n",
            "898/898 [==============================] - 39s 43ms/step - loss: 1.0716 - accuracy: 0.6021 - val_loss: 1.1380 - val_accuracy: 0.5779 - lr: 5.0000e-04\n",
            "Epoch 10/50\n",
            "897/898 [============================>.] - ETA: 0s - loss: 1.0451 - accuracy: 0.6137\n",
            "Epoch 10: val_loss improved from 1.13804 to 1.05330, saving model to model_vgg/model_wiehgts.hdf5\n",
            "898/898 [==============================] - 38s 43ms/step - loss: 1.0452 - accuracy: 0.6136 - val_loss: 1.0533 - val_accuracy: 0.5988 - lr: 5.0000e-04\n",
            "Epoch 11/50\n",
            "897/898 [============================>.] - ETA: 0s - loss: 1.0167 - accuracy: 0.6183\n",
            "Epoch 11: val_loss improved from 1.05330 to 1.03396, saving model to model_vgg/model_wiehgts.hdf5\n",
            "898/898 [==============================] - 38s 43ms/step - loss: 1.0170 - accuracy: 0.6183 - val_loss: 1.0340 - val_accuracy: 0.6141 - lr: 5.0000e-04\n",
            "Epoch 12/50\n",
            "897/898 [============================>.] - ETA: 0s - loss: 0.9915 - accuracy: 0.6327\n",
            "Epoch 12: val_loss did not improve from 1.03396\n",
            "898/898 [==============================] - 38s 42ms/step - loss: 0.9914 - accuracy: 0.6328 - val_loss: 1.1196 - val_accuracy: 0.6021 - lr: 5.0000e-04\n",
            "Epoch 13/50\n",
            "897/898 [============================>.] - ETA: 0s - loss: 0.9645 - accuracy: 0.6419\n",
            "Epoch 13: val_loss did not improve from 1.03396\n",
            "898/898 [==============================] - 38s 43ms/step - loss: 0.9647 - accuracy: 0.6419 - val_loss: 1.0531 - val_accuracy: 0.6016 - lr: 5.0000e-04\n",
            "Epoch 14/50\n",
            "897/898 [============================>.] - ETA: 0s - loss: 0.9518 - accuracy: 0.6472\n",
            "Epoch 14: val_loss improved from 1.03396 to 0.97107, saving model to model_vgg/model_wiehgts.hdf5\n",
            "898/898 [==============================] - 38s 43ms/step - loss: 0.9517 - accuracy: 0.6472 - val_loss: 0.9711 - val_accuracy: 0.6425 - lr: 5.0000e-04\n",
            "Epoch 15/50\n",
            "898/898 [==============================] - ETA: 0s - loss: 0.9312 - accuracy: 0.6548\n",
            "Epoch 15: val_loss did not improve from 0.97107\n",
            "898/898 [==============================] - 38s 42ms/step - loss: 0.9312 - accuracy: 0.6548 - val_loss: 1.0150 - val_accuracy: 0.6213 - lr: 5.0000e-04\n",
            "Epoch 16/50\n",
            "897/898 [============================>.] - ETA: 0s - loss: 0.9066 - accuracy: 0.6666\n",
            "Epoch 16: val_loss did not improve from 0.97107\n",
            "898/898 [==============================] - 38s 42ms/step - loss: 0.9067 - accuracy: 0.6666 - val_loss: 1.0310 - val_accuracy: 0.6211 - lr: 5.0000e-04\n",
            "Epoch 17/50\n",
            "897/898 [============================>.] - ETA: 0s - loss: 0.8949 - accuracy: 0.6693\n",
            "Epoch 17: val_loss did not improve from 0.97107\n",
            "898/898 [==============================] - 38s 42ms/step - loss: 0.8949 - accuracy: 0.6694 - val_loss: 1.0555 - val_accuracy: 0.6108 - lr: 5.0000e-04\n",
            "Epoch 18/50\n",
            "897/898 [============================>.] - ETA: 0s - loss: 0.8783 - accuracy: 0.6788\n",
            "Epoch 18: val_loss did not improve from 0.97107\n",
            "898/898 [==============================] - 38s 42ms/step - loss: 0.8781 - accuracy: 0.6788 - val_loss: 1.0687 - val_accuracy: 0.6088 - lr: 5.0000e-04\n",
            "Epoch 19/50\n",
            "897/898 [============================>.] - ETA: 0s - loss: 0.8628 - accuracy: 0.6859\n",
            "Epoch 19: val_loss did not improve from 0.97107\n",
            "898/898 [==============================] - 38s 42ms/step - loss: 0.8627 - accuracy: 0.6860 - val_loss: 1.0061 - val_accuracy: 0.6275 - lr: 5.0000e-04\n",
            "Epoch 20/50\n",
            "897/898 [============================>.] - ETA: 0s - loss: 0.8351 - accuracy: 0.6946\n",
            "Epoch 20: val_loss did not improve from 0.97107\n",
            "898/898 [==============================] - 38s 42ms/step - loss: 0.8352 - accuracy: 0.6947 - val_loss: 1.0408 - val_accuracy: 0.6174 - lr: 5.0000e-04\n",
            "Epoch 21/50\n",
            "897/898 [============================>.] - ETA: 0s - loss: 0.8278 - accuracy: 0.6960\n",
            "Epoch 21: val_loss did not improve from 0.97107\n",
            "898/898 [==============================] - 38s 42ms/step - loss: 0.8276 - accuracy: 0.6960 - val_loss: 0.9854 - val_accuracy: 0.6420 - lr: 5.0000e-04\n",
            "Epoch 22/50\n",
            "897/898 [============================>.] - ETA: 0s - loss: 0.7988 - accuracy: 0.7085\n",
            "Epoch 22: val_loss did not improve from 0.97107\n",
            "898/898 [==============================] - 38s 42ms/step - loss: 0.7989 - accuracy: 0.7085 - val_loss: 1.0450 - val_accuracy: 0.6269 - lr: 5.0000e-04\n",
            "Epoch 23/50\n",
            "897/898 [============================>.] - ETA: 0s - loss: 0.7997 - accuracy: 0.7098\n",
            "Epoch 23: val_loss improved from 0.97107 to 0.94237, saving model to model_vgg/model_wiehgts.hdf5\n",
            "898/898 [==============================] - 38s 43ms/step - loss: 0.7995 - accuracy: 0.7098 - val_loss: 0.9424 - val_accuracy: 0.6623 - lr: 5.0000e-04\n",
            "Epoch 24/50\n",
            "897/898 [============================>.] - ETA: 0s - loss: 0.7734 - accuracy: 0.7195\n",
            "Epoch 24: val_loss did not improve from 0.94237\n",
            "898/898 [==============================] - 38s 42ms/step - loss: 0.7734 - accuracy: 0.7195 - val_loss: 1.0301 - val_accuracy: 0.6486 - lr: 5.0000e-04\n",
            "Epoch 25/50\n",
            "897/898 [============================>.] - ETA: 0s - loss: 0.7599 - accuracy: 0.7239\n",
            "Epoch 25: val_loss did not improve from 0.94237\n",
            "898/898 [==============================] - 38s 42ms/step - loss: 0.7597 - accuracy: 0.7240 - val_loss: 1.0135 - val_accuracy: 0.6417 - lr: 5.0000e-04\n",
            "Epoch 26/50\n",
            "898/898 [==============================] - ETA: 0s - loss: 0.7416 - accuracy: 0.7311\n",
            "Epoch 26: val_loss did not improve from 0.94237\n",
            "898/898 [==============================] - 38s 42ms/step - loss: 0.7416 - accuracy: 0.7311 - val_loss: 1.0169 - val_accuracy: 0.6330 - lr: 5.0000e-04\n",
            "Epoch 27/50\n",
            "897/898 [============================>.] - ETA: 0s - loss: 0.7321 - accuracy: 0.7372\n",
            "Epoch 27: val_loss did not improve from 0.94237\n",
            "898/898 [==============================] - 38s 42ms/step - loss: 0.7319 - accuracy: 0.7372 - val_loss: 0.9976 - val_accuracy: 0.6539 - lr: 5.0000e-04\n",
            "Epoch 28/50\n",
            "897/898 [============================>.] - ETA: 0s - loss: 0.7160 - accuracy: 0.7375\n",
            "Epoch 28: val_loss did not improve from 0.94237\n",
            "898/898 [==============================] - 38s 42ms/step - loss: 0.7161 - accuracy: 0.7374 - val_loss: 0.9838 - val_accuracy: 0.6573 - lr: 5.0000e-04\n",
            "Epoch 29/50\n",
            "897/898 [============================>.] - ETA: 0s - loss: 0.6974 - accuracy: 0.7451\n",
            "Epoch 29: val_loss did not improve from 0.94237\n",
            "898/898 [==============================] - 38s 42ms/step - loss: 0.6974 - accuracy: 0.7452 - val_loss: 1.0474 - val_accuracy: 0.6434 - lr: 5.0000e-04\n",
            "Epoch 30/50\n",
            "897/898 [============================>.] - ETA: 0s - loss: 0.6840 - accuracy: 0.7528\n",
            "Epoch 30: val_loss did not improve from 0.94237\n",
            "898/898 [==============================] - 38s 42ms/step - loss: 0.6835 - accuracy: 0.7530 - val_loss: 1.0130 - val_accuracy: 0.6590 - lr: 5.0000e-04\n",
            "Epoch 31/50\n",
            "897/898 [============================>.] - ETA: 0s - loss: 0.6713 - accuracy: 0.7564\n",
            "Epoch 31: val_loss did not improve from 0.94237\n",
            "898/898 [==============================] - 38s 42ms/step - loss: 0.6717 - accuracy: 0.7562 - val_loss: 1.0179 - val_accuracy: 0.6517 - lr: 5.0000e-04\n",
            "Epoch 32/50\n",
            "897/898 [============================>.] - ETA: 0s - loss: 0.6560 - accuracy: 0.7634\n",
            "Epoch 32: val_loss did not improve from 0.94237\n",
            "898/898 [==============================] - 38s 42ms/step - loss: 0.6558 - accuracy: 0.7634 - val_loss: 1.0078 - val_accuracy: 0.6559 - lr: 5.0000e-04\n",
            "Epoch 33/50\n",
            "897/898 [============================>.] - ETA: 0s - loss: 0.6408 - accuracy: 0.7674\n",
            "Epoch 33: val_loss did not improve from 0.94237\n",
            "898/898 [==============================] - 38s 42ms/step - loss: 0.6408 - accuracy: 0.7675 - val_loss: 1.1265 - val_accuracy: 0.6330 - lr: 5.0000e-04\n",
            "Epoch 34/50\n",
            "897/898 [============================>.] - ETA: 0s - loss: 0.6299 - accuracy: 0.7706\n",
            "Epoch 34: val_loss did not improve from 0.94237\n",
            "898/898 [==============================] - 38s 42ms/step - loss: 0.6298 - accuracy: 0.7706 - val_loss: 1.0746 - val_accuracy: 0.6626 - lr: 5.0000e-04\n",
            "Epoch 35/50\n",
            "897/898 [============================>.] - ETA: 0s - loss: 0.6134 - accuracy: 0.7806\n",
            "Epoch 35: val_loss did not improve from 0.94237\n",
            "\n",
            "Epoch 35: ReduceLROnPlateau reducing learning rate to 5.0000002374872565e-05.\n",
            "898/898 [==============================] - 38s 42ms/step - loss: 0.6133 - accuracy: 0.7807 - val_loss: 1.0789 - val_accuracy: 0.6436 - lr: 5.0000e-04\n",
            "Epoch 36/50\n",
            "898/898 [==============================] - ETA: 0s - loss: 0.5373 - accuracy: 0.8079\n",
            "Epoch 36: val_loss did not improve from 0.94237\n",
            "898/898 [==============================] - 38s 42ms/step - loss: 0.5373 - accuracy: 0.8079 - val_loss: 0.9876 - val_accuracy: 0.6818 - lr: 5.0000e-05\n",
            "Epoch 37/50\n",
            "898/898 [==============================] - ETA: 0s - loss: 0.4946 - accuracy: 0.8217\n",
            "Epoch 37: val_loss did not improve from 0.94237\n",
            "898/898 [==============================] - 38s 42ms/step - loss: 0.4946 - accuracy: 0.8217 - val_loss: 1.0002 - val_accuracy: 0.6868 - lr: 5.0000e-05\n",
            "Epoch 38/50\n",
            "897/898 [============================>.] - ETA: 0s - loss: 0.4805 - accuracy: 0.8296\n",
            "Epoch 38: val_loss did not improve from 0.94237\n",
            "898/898 [==============================] - 38s 42ms/step - loss: 0.4807 - accuracy: 0.8296 - val_loss: 1.0111 - val_accuracy: 0.6851 - lr: 5.0000e-05\n",
            "Epoch 39/50\n",
            "897/898 [============================>.] - ETA: 0s - loss: 0.4659 - accuracy: 0.8353\n",
            "Epoch 39: val_loss did not improve from 0.94237\n",
            "898/898 [==============================] - 38s 42ms/step - loss: 0.4659 - accuracy: 0.8353 - val_loss: 1.0214 - val_accuracy: 0.6857 - lr: 5.0000e-05\n",
            "Epoch 40/50\n",
            "897/898 [============================>.] - ETA: 0s - loss: 0.4557 - accuracy: 0.8378\n",
            "Epoch 40: val_loss did not improve from 0.94237\n",
            "898/898 [==============================] - 38s 42ms/step - loss: 0.4559 - accuracy: 0.8378 - val_loss: 1.0248 - val_accuracy: 0.6851 - lr: 5.0000e-05\n",
            "Epoch 41/50\n",
            "897/898 [============================>.] - ETA: 0s - loss: 0.4521 - accuracy: 0.8396\n",
            "Epoch 41: val_loss did not improve from 0.94237\n",
            "898/898 [==============================] - 38s 42ms/step - loss: 0.4522 - accuracy: 0.8396 - val_loss: 1.0290 - val_accuracy: 0.6860 - lr: 5.0000e-05\n",
            "Epoch 42/50\n",
            "897/898 [============================>.] - ETA: 0s - loss: 0.4407 - accuracy: 0.8441\n",
            "Epoch 42: val_loss did not improve from 0.94237\n",
            "898/898 [==============================] - 38s 42ms/step - loss: 0.4407 - accuracy: 0.8441 - val_loss: 1.0548 - val_accuracy: 0.6801 - lr: 5.0000e-05\n",
            "Epoch 43/50\n",
            "897/898 [============================>.] - ETA: 0s - loss: 0.4321 - accuracy: 0.8467\n",
            "Epoch 43: val_loss did not improve from 0.94237\n",
            "898/898 [==============================] - 38s 42ms/step - loss: 0.4318 - accuracy: 0.8467 - val_loss: 1.0510 - val_accuracy: 0.6785 - lr: 5.0000e-05\n",
            "Epoch 44/50\n",
            "897/898 [============================>.] - ETA: 0s - loss: 0.4278 - accuracy: 0.8485\n",
            "Epoch 44: val_loss did not improve from 0.94237\n",
            "898/898 [==============================] - 38s 42ms/step - loss: 0.4279 - accuracy: 0.8485 - val_loss: 1.0579 - val_accuracy: 0.6863 - lr: 5.0000e-05\n",
            "Epoch 45/50\n",
            "897/898 [============================>.] - ETA: 0s - loss: 0.4227 - accuracy: 0.8488\n",
            "Epoch 45: val_loss did not improve from 0.94237\n",
            "898/898 [==============================] - 38s 42ms/step - loss: 0.4226 - accuracy: 0.8487 - val_loss: 1.0649 - val_accuracy: 0.6840 - lr: 5.0000e-05\n",
            "Epoch 46/50\n",
            "897/898 [============================>.] - ETA: 0s - loss: 0.4151 - accuracy: 0.8514\n",
            "Epoch 46: val_loss did not improve from 0.94237\n",
            "898/898 [==============================] - 38s 42ms/step - loss: 0.4154 - accuracy: 0.8513 - val_loss: 1.0669 - val_accuracy: 0.6846 - lr: 5.0000e-05\n",
            "Epoch 47/50\n",
            "897/898 [============================>.] - ETA: 0s - loss: 0.4127 - accuracy: 0.8531\n",
            "Epoch 47: val_loss did not improve from 0.94237\n",
            "\n",
            "Epoch 47: ReduceLROnPlateau reducing learning rate to 5.000000237487257e-06.\n",
            "898/898 [==============================] - 38s 42ms/step - loss: 0.4127 - accuracy: 0.8531 - val_loss: 1.0802 - val_accuracy: 0.6851 - lr: 5.0000e-05\n",
            "Epoch 48/50\n",
            "897/898 [============================>.] - ETA: 0s - loss: 0.3952 - accuracy: 0.8599\n",
            "Epoch 48: val_loss did not improve from 0.94237\n",
            "898/898 [==============================] - 38s 42ms/step - loss: 0.3952 - accuracy: 0.8598 - val_loss: 1.0803 - val_accuracy: 0.6865 - lr: 5.0000e-06\n"
          ]
        }
      ]
    },
    {
      "cell_type": "markdown",
      "source": [
        "## Evaluate model"
      ],
      "metadata": {
        "id": "Cv9XokpXPrGN"
      }
    },
    {
      "cell_type": "code",
      "source": [
        "model_json = model.to_json()\n",
        "with open(\"model.json\",\"w\") as json_file:\n",
        "    json_file.write(model_json)"
      ],
      "metadata": {
        "id": "MRIRtv_0vP_F"
      },
      "execution_count": null,
      "outputs": []
    },
    {
      "cell_type": "code",
      "source": [
        "import matplotlib.pyplot as plt\n",
        "fig, ax = plt.subplots(2,1)\n",
        "ax[0].plot(history.history['loss'], color='b', label=\"Training loss\")\n",
        "ax[0].plot(history.history['val_loss'], color='r', label=\"validation loss\",axes =ax[0])\n",
        "legend = ax[0].legend(loc='best', shadow=True)\n",
        "\n",
        "ax[1].plot(history.history['accuracy'], color='b', label=\"Training accuracy\")\n",
        "ax[1].plot(history.history['val_accuracy'], color='r',label=\"Validation accuracy\")\n",
        "legend = ax[1].legend(loc='best', shadow=True)"
      ],
      "metadata": {
        "id": "94-QOfbmPolj",
        "colab": {
          "base_uri": "https://localhost:8080/",
          "height": 265
        },
        "outputId": "c2d0bdf3-bf1c-4e10-d988-3c4a252e4139"
      },
      "execution_count": null,
      "outputs": [
        {
          "output_type": "display_data",
          "data": {
            "text/plain": [
              "<Figure size 432x288 with 2 Axes>"
            ],
            "image/png": "[encoded data removed]"
          },
          "metadata": {
            "needs_background": "light"
          }
        }
      ]
    },
    {
      "cell_type": "code",
      "source": [
        "def plot_confusion_matrix(cm, classes,\n",
        "                          normalize=False,\n",
        "                          title='Confusion matrix',\n",
        "                          cmap=plt.cm.Blues):\n",
        "  \n",
        "    plt.imshow(cm, interpolation='nearest', cmap=cmap)\n",
        "    plt.title(title)\n",
        "    plt.colorbar()\n",
        "    tick_marks = np.arange(len(classes))\n",
        "    plt.xticks(tick_marks, classes, rotation=45)\n",
        "    plt.yticks(tick_marks, classes)\n",
        "    \n",
        "    \n",
        "    if normalize:\n",
        "        cm = cm.astype('float') / cm.sum(axis=1)[:, np.newaxis]\n",
        "\n",
        "    thresh = cm.max() / 2.\n",
        "    for i, j in itertools.product(range(cm.shape[0]), range(cm.shape[1])):\n",
        "        plt.text(j, i, cm[i, j],\n",
        "                 horizontalalignment=\"center\",\n",
        "                 color=\"white\" if cm[i, j] > thresh else \"black\")\n",
        "\n",
        "    plt.tight_layout()\n",
        "    plt.ylabel('True label')\n",
        "    plt.xlabel('Predicted label')\n",
        "\n",
        "# Predict the values from the validation dataset\n",
        "Y_pred = model.predict(X_val)\n",
        "# Convert predictions classes to one hot vectors \n",
        "Y_pred_classes = np.argmax(Y_pred,axis = 1) \n",
        "# Convert validation observations to one hot vectors\n",
        "Y_true = np.argmax(Y_val,axis = 1) \n",
        "# compute the confusion matrix\n",
        "confusion_mtx = confusion_matrix(Y_true, Y_pred_classes) \n",
        "# plot the confusion matrix\n",
        "plot_confusion_matrix(confusion_mtx, classes = range(10)) "
      ],
      "metadata": {
        "colab": {
          "base_uri": "https://localhost:8080/",
          "height": 311
        },
        "id": "WY6OdW8IsJEN",
        "outputId": "56843b02-4887-4587-f17b-f9a025f0e382"
      },
      "execution_count": null,
      "outputs": [
        {
          "output_type": "display_data",
          "data": {
            "text/plain": [
              "<Figure size 432x288 with 2 Axes>"
            ],
            "image/png": "[encoded data removed]"
          },
          "metadata": {
            "needs_background": "light"
          }
        }
      ]
    },
    {
      "cell_type": "code",
      "source": [
        "img = image.load_img(\"test.png\",target_size = (48,48),color_mode = \"grayscale\")\n",
        "img = np.array(img)\n",
        "plt.imshow(img)\n",
        "print(img.shape) #"
      ],
      "metadata": {
        "colab": {
          "base_uri": "https://localhost:8080/",
          "height": 284
        },
        "id": "vCu-Zi3bz1U6",
        "outputId": "a9c9f0e1-4a4b-4455-ad76-e6c7a6f13a5c"
      },
      "execution_count": 35,
      "outputs": [
        {
          "output_type": "stream",
          "name": "stdout",
          "text": [
            "(48, 48)\n"
          ]
        },
        {
          "output_type": "display_data",
          "data": {
            "text/plain": [
              "<Figure size 432x288 with 1 Axes>"
            ],
            "image/png": "[encoded data removed]"
          },
          "metadata": {
            "needs_background": "light"
          }
        }
      ]
    },
    {
      "cell_type": "code",
      "source": [
        "label_dict = {0:'Angry',1:'Disgust',2:'Fear',3:'Happy',4:'Neutral',5:'Sad',6:'Surprise'}"
      ],
      "metadata": {
        "id": "8VwZAeR_0SVa"
      },
      "execution_count": 36,
      "outputs": []
    },
    {
      "cell_type": "code",
      "source": [
        "img = np.expand_dims(img,axis = 0) #makes image shape (1,48,48)\n",
        "img = img.reshape(1,48,48,1)\n",
        "result = model.predict(img)\n",
        "result = list(result[0])\n",
        "print(result)"
      ],
      "metadata": {
        "colab": {
          "base_uri": "https://localhost:8080/"
        },
        "id": "wC5YZ7-N0T0h",
        "outputId": "870d4575-ffa8-4263-eb5d-226e89035056"
      },
      "execution_count": 37,
      "outputs": [
        {
          "output_type": "stream",
          "name": "stdout",
          "text": [
            "[0.05114801, 7.91032e-06, 0.045527715, 2.628828e-06, 0.006075666, 0.7437962, 0.15344188]\n"
          ]
        }
      ]
    },
    {
      "cell_type": "code",
      "source": [
        "img_index = result.index(max(result))\n",
        "print(label_dict[img_index])\n",
        "plt.show()"
      ],
      "metadata": {
        "colab": {
          "base_uri": "https://localhost:8080/"
        },
        "id": "1-wGoHJs0e_y",
        "outputId": "2f9a4fc8-88bf-4b64-d282-f63ee6c9f785"
      },
      "execution_count": 38,
      "outputs": [
        {
          "output_type": "stream",
          "name": "stdout",
          "text": [
            "Sad\n"
          ]
        }
      ]
    },
    {
      "cell_type": "code",
      "source": [
        "score, acc = model.evaluate(X_test, Y_test, batch_size=64)\n",
        "print('Test score:', score)\n",
        "print(\"Test accuracy:\", acc)"
      ],
      "metadata": {
        "id": "--jb6JdjPvpT",
        "colab": {
          "base_uri": "https://localhost:8080/"
        },
        "outputId": "1db59a77-753d-41e0-832e-eb516acb96dd"
      },
      "execution_count": null,
      "outputs": [
        {
          "output_type": "stream",
          "name": "stdout",
          "text": [
            "57/57 [==============================] - 1s 19ms/step - loss: 1.0133 - accuracy: 0.6980\n",
            "Test score: 1.013330340385437\n",
            "Test accuracy: 0.6979659795761108\n"
          ]
        }
      ]
    }
  ]
}